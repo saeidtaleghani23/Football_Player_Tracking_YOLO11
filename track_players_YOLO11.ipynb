{
 "cells": [
  {
   "cell_type": "markdown",
   "metadata": {},
   "source": [
    "# Train YOLOv11 Model on  a Custom Dataset "
   ]
  },
  {
   "cell_type": "code",
   "execution_count": null,
   "metadata": {},
   "outputs": [],
   "source": [
    "from ultralytics import YOLO\n",
    "import cv2\n",
    "import time\n",
    "import os\n",
    "from deep_sort_realtime.deepsort_tracker import DeepSort\n",
    "# Load yolo11 model\n",
    "model = YOLO(\"yolo11m.pt\")\n",
    "Home= os.getcwd()"
   ]
  },
  {
   "cell_type": "markdown",
   "metadata": {},
   "source": [
    "# Fintune the model using CLI"
   ]
  },
  {
   "cell_type": "code",
   "execution_count": null,
   "metadata": {},
   "outputs": [
    {
     "name": "stdout",
     "output_type": "stream",
     "text": [
      "New https://pypi.org/project/ultralytics/8.3.26 available 😃 Update with 'pip install -U ultralytics'\n",
      "Ultralytics 8.3.25 🚀 Python-3.8.20 torch-2.4.1+cu118 CUDA:0 (NVIDIA GeForce RTX 4060, 8188MiB)\n",
      "\u001b[34m\u001b[1mengine/trainer: \u001b[0mtask=detect, mode=train, model=yolo11m.pt, data=/home/saeid23/ComputerVision/YOLO11_Object_Detection/datasets/Football_Players_Detection_Dataset/data.yaml, epochs=50, time=None, patience=100, batch=8, imgsz=640, save=True, save_period=-1, cache=False, device=0, workers=0, project=None, name=train2, exist_ok=False, pretrained=True, optimizer=auto, verbose=True, seed=0, deterministic=True, single_cls=False, rect=False, cos_lr=False, close_mosaic=10, resume=False, amp=True, fraction=1.0, profile=False, freeze=None, multi_scale=False, overlap_mask=True, mask_ratio=4, dropout=0.0, val=True, split=val, save_json=False, save_hybrid=False, conf=None, iou=0.7, max_det=300, half=False, dnn=False, plots=True, source=None, vid_stride=1, stream_buffer=False, visualize=False, augment=False, agnostic_nms=False, classes=None, retina_masks=False, embed=None, show=False, save_frames=False, save_txt=False, save_conf=False, save_crop=False, show_labels=True, show_conf=True, show_boxes=True, line_width=None, format=torchscript, keras=False, optimize=False, int8=False, dynamic=False, simplify=True, opset=None, workspace=4, nms=False, lr0=0.001, lrf=0.01, momentum=0.937, weight_decay=0.0005, warmup_epochs=3.0, warmup_momentum=0.8, warmup_bias_lr=0.1, box=7.5, cls=0.5, dfl=1.5, pose=12.0, kobj=1.0, label_smoothing=0.0, nbs=64, hsv_h=0.015, hsv_s=0.7, hsv_v=0.4, degrees=0.0, translate=0.1, scale=0.5, shear=0.0, perspective=0.0, flipud=0.0, fliplr=0.5, bgr=0.0, mosaic=1.0, mixup=0.0, copy_paste=0.0, copy_paste_mode=flip, auto_augment=randaugment, erasing=0.4, crop_fraction=1.0, cfg=None, tracker=botsort.yaml, save_dir=runs/detect/train2\n",
      "Overriding model.yaml nc=80 with nc=4\n",
      "\n",
      "                   from  n    params  module                                       arguments                     \n",
      "  0                  -1  1      1856  ultralytics.nn.modules.conv.Conv             [3, 64, 3, 2]                 \n",
      "  1                  -1  1     73984  ultralytics.nn.modules.conv.Conv             [64, 128, 3, 2]               \n",
      "  2                  -1  1    111872  ultralytics.nn.modules.block.C3k2            [128, 256, 1, True, 0.25]     \n",
      "  3                  -1  1    590336  ultralytics.nn.modules.conv.Conv             [256, 256, 3, 2]              \n",
      "  4                  -1  1    444928  ultralytics.nn.modules.block.C3k2            [256, 512, 1, True, 0.25]     \n",
      "  5                  -1  1   2360320  ultralytics.nn.modules.conv.Conv             [512, 512, 3, 2]              \n",
      "  6                  -1  1   1380352  ultralytics.nn.modules.block.C3k2            [512, 512, 1, True]           \n",
      "  7                  -1  1   2360320  ultralytics.nn.modules.conv.Conv             [512, 512, 3, 2]              \n",
      "  8                  -1  1   1380352  ultralytics.nn.modules.block.C3k2            [512, 512, 1, True]           \n",
      "  9                  -1  1    656896  ultralytics.nn.modules.block.SPPF            [512, 512, 5]                 \n",
      " 10                  -1  1    990976  ultralytics.nn.modules.block.C2PSA           [512, 512, 1]                 \n",
      " 11                  -1  1         0  torch.nn.modules.upsampling.Upsample         [None, 2, 'nearest']          \n",
      " 12             [-1, 6]  1         0  ultralytics.nn.modules.conv.Concat           [1]                           \n",
      " 13                  -1  1   1642496  ultralytics.nn.modules.block.C3k2            [1024, 512, 1, True]          \n",
      " 14                  -1  1         0  torch.nn.modules.upsampling.Upsample         [None, 2, 'nearest']          \n",
      " 15             [-1, 4]  1         0  ultralytics.nn.modules.conv.Concat           [1]                           \n",
      " 16                  -1  1    542720  ultralytics.nn.modules.block.C3k2            [1024, 256, 1, True]          \n",
      " 17                  -1  1    590336  ultralytics.nn.modules.conv.Conv             [256, 256, 3, 2]              \n",
      " 18            [-1, 13]  1         0  ultralytics.nn.modules.conv.Concat           [1]                           \n",
      " 19                  -1  1   1511424  ultralytics.nn.modules.block.C3k2            [768, 512, 1, True]           \n",
      " 20                  -1  1   2360320  ultralytics.nn.modules.conv.Conv             [512, 512, 3, 2]              \n",
      " 21            [-1, 10]  1         0  ultralytics.nn.modules.conv.Concat           [1]                           \n",
      " 22                  -1  1   1642496  ultralytics.nn.modules.block.C3k2            [1024, 512, 1, True]          \n",
      " 23        [16, 19, 22]  1   1414108  ultralytics.nn.modules.head.Detect           [4, [256, 512, 512]]          \n",
      "YOLO11m summary: 409 layers, 20,056,092 parameters, 20,056,076 gradients, 68.2 GFLOPs\n",
      "\n",
      "Transferred 643/649 items from pretrained weights\n",
      "Freezing layer 'model.23.dfl.conv.weight'\n",
      "\u001b[34m\u001b[1mAMP: \u001b[0mrunning Automatic Mixed Precision (AMP) checks...\n",
      "\u001b[34m\u001b[1mAMP: \u001b[0mchecks passed ✅\n"
     ]
    },
    {
     "name": "stderr",
     "output_type": "stream",
     "text": [
      "\u001b[34m\u001b[1mtrain: \u001b[0mScanning /home/saeid23/ComputerVision/YOLO11_Object_Detection/datasets/Football_Players_Detection_Dataset/train/labels.cache... 298 images, 0 backgrounds, 0 corrupt: 100%|██████████| 298/298 [00:00<?, ?it/s]\n",
      "\u001b[34m\u001b[1mval: \u001b[0mScanning /home/saeid23/ComputerVision/YOLO11_Object_Detection/datasets/Football_Players_Detection_Dataset/valid/labels.cache... 49 images, 0 backgrounds, 0 corrupt: 100%|██████████| 49/49 [00:00<?, ?it/s]\n"
     ]
    },
    {
     "name": "stdout",
     "output_type": "stream",
     "text": [
      "Plotting labels to runs/detect/train2/labels.jpg... \n",
      "\u001b[34m\u001b[1moptimizer:\u001b[0m 'optimizer=auto' found, ignoring 'lr0=0.001' and 'momentum=0.937' and determining best 'optimizer', 'lr0' and 'momentum' automatically... \n",
      "\u001b[34m\u001b[1moptimizer:\u001b[0m AdamW(lr=0.00125, momentum=0.9) with parameter groups 106 weight(decay=0.0), 113 weight(decay=0.0005), 112 bias(decay=0.0)\n",
      "Image sizes 640 train, 640 val\n",
      "Using 0 dataloader workers\n",
      "Logging results to \u001b[1mruns/detect/train2\u001b[0m\n",
      "Starting training for 50 epochs...\n",
      "\n",
      "      Epoch    GPU_mem   box_loss   cls_loss   dfl_loss  Instances       Size\n"
     ]
    },
    {
     "name": "stderr",
     "output_type": "stream",
     "text": [
      "       1/50      4.61G      1.386      1.768      0.885        130        640: 100%|██████████| 38/38 [00:15<00:00,  2.40it/s]\n",
      "                 Class     Images  Instances      Box(P          R      mAP50  mAP50-95): 100%|██████████| 4/4 [00:01<00:00,  3.01it/s]"
     ]
    },
    {
     "name": "stdout",
     "output_type": "stream",
     "text": [
      "                   all         49       1174      0.603      0.233      0.242      0.133\n"
     ]
    },
    {
     "name": "stderr",
     "output_type": "stream",
     "text": [
      "\n"
     ]
    },
    {
     "name": "stdout",
     "output_type": "stream",
     "text": [
      "\n",
      "      Epoch    GPU_mem   box_loss   cls_loss   dfl_loss  Instances       Size\n"
     ]
    },
    {
     "name": "stderr",
     "output_type": "stream",
     "text": [
      "       2/50      4.76G        1.3     0.9697     0.8646         17        640: 100%|██████████| 38/38 [00:15<00:00,  2.50it/s]\n",
      "                 Class     Images  Instances      Box(P          R      mAP50  mAP50-95): 100%|██████████| 4/4 [00:01<00:00,  2.92it/s]"
     ]
    },
    {
     "name": "stdout",
     "output_type": "stream",
     "text": [
      "                   all         49       1174      0.292       0.45      0.359      0.226\n"
     ]
    },
    {
     "name": "stderr",
     "output_type": "stream",
     "text": [
      "\n"
     ]
    },
    {
     "name": "stdout",
     "output_type": "stream",
     "text": [
      "\n",
      "      Epoch    GPU_mem   box_loss   cls_loss   dfl_loss  Instances       Size\n"
     ]
    },
    {
     "name": "stderr",
     "output_type": "stream",
     "text": [
      "       3/50      4.76G      1.265     0.8886     0.8544         93        640: 100%|██████████| 38/38 [00:15<00:00,  2.41it/s]\n",
      "                 Class     Images  Instances      Box(P          R      mAP50  mAP50-95): 100%|██████████| 4/4 [00:01<00:00,  3.18it/s]"
     ]
    },
    {
     "name": "stdout",
     "output_type": "stream",
     "text": [
      "                   all         49       1174      0.448      0.446      0.399      0.236\n"
     ]
    },
    {
     "name": "stderr",
     "output_type": "stream",
     "text": [
      "\n"
     ]
    },
    {
     "name": "stdout",
     "output_type": "stream",
     "text": [
      "\n",
      "      Epoch    GPU_mem   box_loss   cls_loss   dfl_loss  Instances       Size\n"
     ]
    },
    {
     "name": "stderr",
     "output_type": "stream",
     "text": [
      "       4/50      4.69G      1.207     0.9081     0.8409         53        640: 100%|██████████| 38/38 [00:15<00:00,  2.43it/s]\n",
      "                 Class     Images  Instances      Box(P          R      mAP50  mAP50-95): 100%|██████████| 4/4 [00:01<00:00,  3.18it/s]"
     ]
    },
    {
     "name": "stdout",
     "output_type": "stream",
     "text": [
      "                   all         49       1174      0.502      0.302      0.333      0.202\n"
     ]
    },
    {
     "name": "stderr",
     "output_type": "stream",
     "text": [
      "\n"
     ]
    },
    {
     "name": "stdout",
     "output_type": "stream",
     "text": [
      "\n",
      "      Epoch    GPU_mem   box_loss   cls_loss   dfl_loss  Instances       Size\n"
     ]
    },
    {
     "name": "stderr",
     "output_type": "stream",
     "text": [
      "       5/50      4.72G      1.229     0.8002     0.8432         58        640: 100%|██████████| 38/38 [00:15<00:00,  2.47it/s]\n",
      "                 Class     Images  Instances      Box(P          R      mAP50  mAP50-95): 100%|██████████| 4/4 [00:01<00:00,  3.20it/s]"
     ]
    },
    {
     "name": "stdout",
     "output_type": "stream",
     "text": [
      "                   all         49       1174      0.397      0.524      0.394      0.217\n"
     ]
    },
    {
     "name": "stderr",
     "output_type": "stream",
     "text": [
      "\n"
     ]
    },
    {
     "name": "stdout",
     "output_type": "stream",
     "text": [
      "\n",
      "      Epoch    GPU_mem   box_loss   cls_loss   dfl_loss  Instances       Size\n"
     ]
    },
    {
     "name": "stderr",
     "output_type": "stream",
     "text": [
      "       6/50      4.67G       1.16     0.7223     0.8448         49        640: 100%|██████████| 38/38 [00:15<00:00,  2.45it/s]\n",
      "                 Class     Images  Instances      Box(P          R      mAP50  mAP50-95): 100%|██████████| 4/4 [00:01<00:00,  3.25it/s]"
     ]
    },
    {
     "name": "stdout",
     "output_type": "stream",
     "text": [
      "                   all         49       1174      0.773      0.654      0.682      0.432\n"
     ]
    },
    {
     "name": "stderr",
     "output_type": "stream",
     "text": [
      "\n"
     ]
    },
    {
     "name": "stdout",
     "output_type": "stream",
     "text": [
      "\n",
      "      Epoch    GPU_mem   box_loss   cls_loss   dfl_loss  Instances       Size\n"
     ]
    },
    {
     "name": "stderr",
     "output_type": "stream",
     "text": [
      "       7/50      4.71G      1.146     0.6883       0.84         52        640: 100%|██████████| 38/38 [00:15<00:00,  2.43it/s]\n",
      "                 Class     Images  Instances      Box(P          R      mAP50  mAP50-95): 100%|██████████| 4/4 [00:01<00:00,  3.33it/s]"
     ]
    },
    {
     "name": "stdout",
     "output_type": "stream",
     "text": [
      "                   all         49       1174      0.735      0.672      0.678      0.419\n"
     ]
    },
    {
     "name": "stderr",
     "output_type": "stream",
     "text": [
      "\n"
     ]
    },
    {
     "name": "stdout",
     "output_type": "stream",
     "text": [
      "\n",
      "      Epoch    GPU_mem   box_loss   cls_loss   dfl_loss  Instances       Size\n"
     ]
    },
    {
     "name": "stderr",
     "output_type": "stream",
     "text": [
      "       8/50      4.74G      1.253     0.7065     0.8483         51        640: 100%|██████████| 38/38 [00:16<00:00,  2.36it/s]\n",
      "                 Class     Images  Instances      Box(P          R      mAP50  mAP50-95): 100%|██████████| 4/4 [00:01<00:00,  3.11it/s]"
     ]
    },
    {
     "name": "stdout",
     "output_type": "stream",
     "text": [
      "                   all         49       1174      0.786      0.643      0.708      0.441\n"
     ]
    },
    {
     "name": "stderr",
     "output_type": "stream",
     "text": [
      "\n"
     ]
    },
    {
     "name": "stdout",
     "output_type": "stream",
     "text": [
      "\n",
      "      Epoch    GPU_mem   box_loss   cls_loss   dfl_loss  Instances       Size\n"
     ]
    },
    {
     "name": "stderr",
     "output_type": "stream",
     "text": [
      "       9/50      4.76G       1.15     0.6649     0.8458         26        640: 100%|██████████| 38/38 [00:15<00:00,  2.48it/s]\n",
      "                 Class     Images  Instances      Box(P          R      mAP50  mAP50-95): 100%|██████████| 4/4 [00:01<00:00,  3.21it/s]"
     ]
    },
    {
     "name": "stdout",
     "output_type": "stream",
     "text": [
      "                   all         49       1174      0.716      0.663      0.683      0.401\n"
     ]
    },
    {
     "name": "stderr",
     "output_type": "stream",
     "text": [
      "\n"
     ]
    },
    {
     "name": "stdout",
     "output_type": "stream",
     "text": [
      "\n",
      "      Epoch    GPU_mem   box_loss   cls_loss   dfl_loss  Instances       Size\n"
     ]
    },
    {
     "name": "stderr",
     "output_type": "stream",
     "text": [
      "      10/50      4.78G      1.231     0.7065     0.8493         29        640: 100%|██████████| 38/38 [00:15<00:00,  2.40it/s]\n",
      "                 Class     Images  Instances      Box(P          R      mAP50  mAP50-95): 100%|██████████| 4/4 [00:01<00:00,  3.08it/s]"
     ]
    },
    {
     "name": "stdout",
     "output_type": "stream",
     "text": [
      "                   all         49       1174      0.738      0.682      0.726      0.452\n"
     ]
    },
    {
     "name": "stderr",
     "output_type": "stream",
     "text": [
      "\n"
     ]
    },
    {
     "name": "stdout",
     "output_type": "stream",
     "text": [
      "\n",
      "      Epoch    GPU_mem   box_loss   cls_loss   dfl_loss  Instances       Size\n"
     ]
    },
    {
     "name": "stderr",
     "output_type": "stream",
     "text": [
      "      11/50       4.7G      1.128      0.648     0.8451         33        640: 100%|██████████| 38/38 [00:16<00:00,  2.35it/s]\n",
      "                 Class     Images  Instances      Box(P          R      mAP50  mAP50-95): 100%|██████████| 4/4 [00:01<00:00,  3.18it/s]"
     ]
    },
    {
     "name": "stdout",
     "output_type": "stream",
     "text": [
      "                   all         49       1174      0.765       0.71      0.718      0.419\n"
     ]
    },
    {
     "name": "stderr",
     "output_type": "stream",
     "text": [
      "\n"
     ]
    },
    {
     "name": "stdout",
     "output_type": "stream",
     "text": [
      "\n",
      "      Epoch    GPU_mem   box_loss   cls_loss   dfl_loss  Instances       Size\n"
     ]
    },
    {
     "name": "stderr",
     "output_type": "stream",
     "text": [
      "      12/50      4.73G      1.128     0.6173     0.8315         68        640: 100%|██████████| 38/38 [00:15<00:00,  2.47it/s]\n",
      "                 Class     Images  Instances      Box(P          R      mAP50  mAP50-95): 100%|██████████| 4/4 [00:01<00:00,  3.30it/s]"
     ]
    },
    {
     "name": "stdout",
     "output_type": "stream",
     "text": [
      "                   all         49       1174        0.8       0.75      0.757      0.479\n"
     ]
    },
    {
     "name": "stderr",
     "output_type": "stream",
     "text": [
      "\n"
     ]
    },
    {
     "name": "stdout",
     "output_type": "stream",
     "text": [
      "\n",
      "      Epoch    GPU_mem   box_loss   cls_loss   dfl_loss  Instances       Size\n"
     ]
    },
    {
     "name": "stderr",
     "output_type": "stream",
     "text": [
      "      13/50      4.74G      1.097     0.6053     0.8285         46        640: 100%|██████████| 38/38 [00:15<00:00,  2.43it/s]\n",
      "                 Class     Images  Instances      Box(P          R      mAP50  mAP50-95): 100%|██████████| 4/4 [00:01<00:00,  3.26it/s]"
     ]
    },
    {
     "name": "stdout",
     "output_type": "stream",
     "text": [
      "                   all         49       1174      0.813      0.734      0.725      0.467\n"
     ]
    },
    {
     "name": "stderr",
     "output_type": "stream",
     "text": [
      "\n"
     ]
    },
    {
     "name": "stdout",
     "output_type": "stream",
     "text": [
      "\n",
      "      Epoch    GPU_mem   box_loss   cls_loss   dfl_loss  Instances       Size\n"
     ]
    },
    {
     "name": "stderr",
     "output_type": "stream",
     "text": [
      "      14/50       4.7G      1.034     0.5692     0.8256        111        640: 100%|██████████| 38/38 [00:15<00:00,  2.41it/s]\n",
      "                 Class     Images  Instances      Box(P          R      mAP50  mAP50-95): 100%|██████████| 4/4 [00:01<00:00,  3.16it/s]"
     ]
    },
    {
     "name": "stdout",
     "output_type": "stream",
     "text": [
      "                   all         49       1174       0.84      0.695      0.737      0.484\n"
     ]
    },
    {
     "name": "stderr",
     "output_type": "stream",
     "text": [
      "\n"
     ]
    },
    {
     "name": "stdout",
     "output_type": "stream",
     "text": [
      "\n",
      "      Epoch    GPU_mem   box_loss   cls_loss   dfl_loss  Instances       Size\n"
     ]
    },
    {
     "name": "stderr",
     "output_type": "stream",
     "text": [
      "      15/50      4.75G     0.9958     0.5545     0.8211         61        640: 100%|██████████| 38/38 [00:15<00:00,  2.43it/s]\n",
      "                 Class     Images  Instances      Box(P          R      mAP50  mAP50-95): 100%|██████████| 4/4 [00:01<00:00,  3.11it/s]"
     ]
    },
    {
     "name": "stdout",
     "output_type": "stream",
     "text": [
      "                   all         49       1174      0.797      0.728      0.755      0.506\n"
     ]
    },
    {
     "name": "stderr",
     "output_type": "stream",
     "text": [
      "\n"
     ]
    },
    {
     "name": "stdout",
     "output_type": "stream",
     "text": [
      "\n",
      "      Epoch    GPU_mem   box_loss   cls_loss   dfl_loss  Instances       Size\n"
     ]
    },
    {
     "name": "stderr",
     "output_type": "stream",
     "text": [
      "      16/50       4.7G     0.9545     0.5459     0.8167         88        640: 100%|██████████| 38/38 [00:15<00:00,  2.45it/s]\n",
      "                 Class     Images  Instances      Box(P          R      mAP50  mAP50-95): 100%|██████████| 4/4 [00:01<00:00,  3.15it/s]"
     ]
    },
    {
     "name": "stdout",
     "output_type": "stream",
     "text": [
      "                   all         49       1174       0.82      0.699      0.758      0.507\n"
     ]
    },
    {
     "name": "stderr",
     "output_type": "stream",
     "text": [
      "\n"
     ]
    },
    {
     "name": "stdout",
     "output_type": "stream",
     "text": [
      "\n",
      "      Epoch    GPU_mem   box_loss   cls_loss   dfl_loss  Instances       Size\n"
     ]
    },
    {
     "name": "stderr",
     "output_type": "stream",
     "text": [
      "      17/50      4.73G     0.9331     0.5296     0.8142         45        640: 100%|██████████| 38/38 [00:15<00:00,  2.44it/s]\n",
      "                 Class     Images  Instances      Box(P          R      mAP50  mAP50-95): 100%|██████████| 4/4 [00:01<00:00,  3.25it/s]"
     ]
    },
    {
     "name": "stdout",
     "output_type": "stream",
     "text": [
      "                   all         49       1174        0.8      0.734      0.766      0.515\n"
     ]
    },
    {
     "name": "stderr",
     "output_type": "stream",
     "text": [
      "\n"
     ]
    },
    {
     "name": "stdout",
     "output_type": "stream",
     "text": [
      "\n",
      "      Epoch    GPU_mem   box_loss   cls_loss   dfl_loss  Instances       Size\n"
     ]
    },
    {
     "name": "stderr",
     "output_type": "stream",
     "text": [
      "      18/50      4.73G      1.047      0.559     0.8163         89        640: 100%|██████████| 38/38 [00:15<00:00,  2.48it/s]\n",
      "                 Class     Images  Instances      Box(P          R      mAP50  mAP50-95): 100%|██████████| 4/4 [00:01<00:00,  3.37it/s]"
     ]
    },
    {
     "name": "stdout",
     "output_type": "stream",
     "text": [
      "                   all         49       1174      0.844        0.7      0.761      0.479\n"
     ]
    },
    {
     "name": "stderr",
     "output_type": "stream",
     "text": [
      "\n"
     ]
    },
    {
     "name": "stdout",
     "output_type": "stream",
     "text": [
      "\n",
      "      Epoch    GPU_mem   box_loss   cls_loss   dfl_loss  Instances       Size\n"
     ]
    },
    {
     "name": "stderr",
     "output_type": "stream",
     "text": [
      "      19/50      4.76G      1.102      0.579     0.8342        123        640: 100%|██████████| 38/38 [00:15<00:00,  2.48it/s]\n",
      "                 Class     Images  Instances      Box(P          R      mAP50  mAP50-95): 100%|██████████| 4/4 [00:01<00:00,  3.34it/s]"
     ]
    },
    {
     "name": "stdout",
     "output_type": "stream",
     "text": [
      "                   all         49       1174      0.853       0.71      0.755      0.489\n"
     ]
    },
    {
     "name": "stderr",
     "output_type": "stream",
     "text": [
      "\n"
     ]
    },
    {
     "name": "stdout",
     "output_type": "stream",
     "text": [
      "\n",
      "      Epoch    GPU_mem   box_loss   cls_loss   dfl_loss  Instances       Size\n"
     ]
    },
    {
     "name": "stderr",
     "output_type": "stream",
     "text": [
      "      20/50      4.66G      1.083     0.5611     0.8265         75        640: 100%|██████████| 38/38 [00:15<00:00,  2.44it/s]\n",
      "                 Class     Images  Instances      Box(P          R      mAP50  mAP50-95): 100%|██████████| 4/4 [00:01<00:00,  3.27it/s]"
     ]
    },
    {
     "name": "stdout",
     "output_type": "stream",
     "text": [
      "                   all         49       1174      0.824      0.712       0.77      0.479\n"
     ]
    },
    {
     "name": "stderr",
     "output_type": "stream",
     "text": [
      "\n"
     ]
    },
    {
     "name": "stdout",
     "output_type": "stream",
     "text": [
      "\n",
      "      Epoch    GPU_mem   box_loss   cls_loss   dfl_loss  Instances       Size\n"
     ]
    },
    {
     "name": "stderr",
     "output_type": "stream",
     "text": [
      "      21/50      4.71G     0.9791     0.5456     0.8225         27        640: 100%|██████████| 38/38 [00:15<00:00,  2.47it/s]\n",
      "                 Class     Images  Instances      Box(P          R      mAP50  mAP50-95): 100%|██████████| 4/4 [00:01<00:00,  3.22it/s]"
     ]
    },
    {
     "name": "stdout",
     "output_type": "stream",
     "text": [
      "                   all         49       1174      0.882      0.731      0.759      0.517\n"
     ]
    },
    {
     "name": "stderr",
     "output_type": "stream",
     "text": [
      "\n"
     ]
    },
    {
     "name": "stdout",
     "output_type": "stream",
     "text": [
      "\n",
      "      Epoch    GPU_mem   box_loss   cls_loss   dfl_loss  Instances       Size\n"
     ]
    },
    {
     "name": "stderr",
     "output_type": "stream",
     "text": [
      "      22/50      4.74G     0.9616     0.5206     0.8169         78        640: 100%|██████████| 38/38 [00:15<00:00,  2.45it/s]\n",
      "                 Class     Images  Instances      Box(P          R      mAP50  mAP50-95): 100%|██████████| 4/4 [00:01<00:00,  3.07it/s]"
     ]
    },
    {
     "name": "stdout",
     "output_type": "stream",
     "text": [
      "                   all         49       1174      0.905      0.726      0.785      0.531\n"
     ]
    },
    {
     "name": "stderr",
     "output_type": "stream",
     "text": [
      "\n"
     ]
    },
    {
     "name": "stdout",
     "output_type": "stream",
     "text": [
      "\n",
      "      Epoch    GPU_mem   box_loss   cls_loss   dfl_loss  Instances       Size\n"
     ]
    },
    {
     "name": "stderr",
     "output_type": "stream",
     "text": [
      "      23/50      4.73G     0.9568     0.5269     0.8109         22        640: 100%|██████████| 38/38 [00:15<00:00,  2.44it/s]\n",
      "                 Class     Images  Instances      Box(P          R      mAP50  mAP50-95): 100%|██████████| 4/4 [00:01<00:00,  3.28it/s]"
     ]
    },
    {
     "name": "stdout",
     "output_type": "stream",
     "text": [
      "                   all         49       1174      0.846      0.668       0.73      0.472\n"
     ]
    },
    {
     "name": "stderr",
     "output_type": "stream",
     "text": [
      "\n"
     ]
    },
    {
     "name": "stdout",
     "output_type": "stream",
     "text": [
      "\n",
      "      Epoch    GPU_mem   box_loss   cls_loss   dfl_loss  Instances       Size\n"
     ]
    },
    {
     "name": "stderr",
     "output_type": "stream",
     "text": [
      "      24/50      4.63G     0.9858     0.5336     0.8113        127        640: 100%|██████████| 38/38 [00:15<00:00,  2.47it/s]\n",
      "                 Class     Images  Instances      Box(P          R      mAP50  mAP50-95): 100%|██████████| 4/4 [00:01<00:00,  3.30it/s]"
     ]
    },
    {
     "name": "stdout",
     "output_type": "stream",
     "text": [
      "                   all         49       1174      0.854      0.698      0.752      0.495\n"
     ]
    },
    {
     "name": "stderr",
     "output_type": "stream",
     "text": [
      "\n"
     ]
    },
    {
     "name": "stdout",
     "output_type": "stream",
     "text": [
      "\n",
      "      Epoch    GPU_mem   box_loss   cls_loss   dfl_loss  Instances       Size\n"
     ]
    },
    {
     "name": "stderr",
     "output_type": "stream",
     "text": [
      "      25/50      4.71G     0.9616     0.5288     0.8143         86        640: 100%|██████████| 38/38 [00:15<00:00,  2.47it/s]\n",
      "                 Class     Images  Instances      Box(P          R      mAP50  mAP50-95): 100%|██████████| 4/4 [00:01<00:00,  3.37it/s]"
     ]
    },
    {
     "name": "stdout",
     "output_type": "stream",
     "text": [
      "                   all         49       1174      0.851      0.765      0.778      0.523\n"
     ]
    },
    {
     "name": "stderr",
     "output_type": "stream",
     "text": [
      "\n"
     ]
    },
    {
     "name": "stdout",
     "output_type": "stream",
     "text": [
      "\n",
      "      Epoch    GPU_mem   box_loss   cls_loss   dfl_loss  Instances       Size\n"
     ]
    },
    {
     "name": "stderr",
     "output_type": "stream",
     "text": [
      "      26/50      4.76G     0.9095     0.4973     0.8115         48        640: 100%|██████████| 38/38 [00:15<00:00,  2.48it/s]\n",
      "                 Class     Images  Instances      Box(P          R      mAP50  mAP50-95): 100%|██████████| 4/4 [00:01<00:00,  3.31it/s]"
     ]
    },
    {
     "name": "stdout",
     "output_type": "stream",
     "text": [
      "                   all         49       1174      0.826      0.749      0.777      0.533\n"
     ]
    },
    {
     "name": "stderr",
     "output_type": "stream",
     "text": [
      "\n"
     ]
    },
    {
     "name": "stdout",
     "output_type": "stream",
     "text": [
      "\n",
      "      Epoch    GPU_mem   box_loss   cls_loss   dfl_loss  Instances       Size\n"
     ]
    },
    {
     "name": "stderr",
     "output_type": "stream",
     "text": [
      "      27/50      4.72G     0.9681     0.5076     0.8111         69        640: 100%|██████████| 38/38 [00:15<00:00,  2.49it/s]\n",
      "                 Class     Images  Instances      Box(P          R      mAP50  mAP50-95): 100%|██████████| 4/4 [00:01<00:00,  3.33it/s]"
     ]
    },
    {
     "name": "stdout",
     "output_type": "stream",
     "text": [
      "                   all         49       1174      0.895      0.745      0.794      0.539\n"
     ]
    },
    {
     "name": "stderr",
     "output_type": "stream",
     "text": [
      "\n"
     ]
    },
    {
     "name": "stdout",
     "output_type": "stream",
     "text": [
      "\n",
      "      Epoch    GPU_mem   box_loss   cls_loss   dfl_loss  Instances       Size\n"
     ]
    },
    {
     "name": "stderr",
     "output_type": "stream",
     "text": [
      "      28/50      4.71G     0.9338     0.4985     0.8165         65        640: 100%|██████████| 38/38 [00:15<00:00,  2.48it/s]\n",
      "                 Class     Images  Instances      Box(P          R      mAP50  mAP50-95): 100%|██████████| 4/4 [00:01<00:00,  3.31it/s]"
     ]
    },
    {
     "name": "stdout",
     "output_type": "stream",
     "text": [
      "                   all         49       1174      0.832      0.748      0.787      0.535\n"
     ]
    },
    {
     "name": "stderr",
     "output_type": "stream",
     "text": [
      "\n"
     ]
    },
    {
     "name": "stdout",
     "output_type": "stream",
     "text": [
      "\n",
      "      Epoch    GPU_mem   box_loss   cls_loss   dfl_loss  Instances       Size\n"
     ]
    },
    {
     "name": "stderr",
     "output_type": "stream",
     "text": [
      "      29/50      4.75G      0.934     0.4904     0.8114         83        640: 100%|██████████| 38/38 [00:15<00:00,  2.49it/s]\n",
      "                 Class     Images  Instances      Box(P          R      mAP50  mAP50-95): 100%|██████████| 4/4 [00:01<00:00,  3.36it/s]"
     ]
    },
    {
     "name": "stdout",
     "output_type": "stream",
     "text": [
      "                   all         49       1174      0.889      0.749      0.797      0.536\n"
     ]
    },
    {
     "name": "stderr",
     "output_type": "stream",
     "text": [
      "\n"
     ]
    },
    {
     "name": "stdout",
     "output_type": "stream",
     "text": [
      "\n",
      "      Epoch    GPU_mem   box_loss   cls_loss   dfl_loss  Instances       Size\n"
     ]
    },
    {
     "name": "stderr",
     "output_type": "stream",
     "text": [
      "      30/50       4.7G     0.8996     0.4804     0.8118         38        640: 100%|██████████| 38/38 [00:15<00:00,  2.48it/s]\n",
      "                 Class     Images  Instances      Box(P          R      mAP50  mAP50-95): 100%|██████████| 4/4 [00:01<00:00,  3.43it/s]"
     ]
    },
    {
     "name": "stdout",
     "output_type": "stream",
     "text": [
      "                   all         49       1174      0.886       0.76      0.808      0.555\n"
     ]
    },
    {
     "name": "stderr",
     "output_type": "stream",
     "text": [
      "\n"
     ]
    },
    {
     "name": "stdout",
     "output_type": "stream",
     "text": [
      "\n",
      "      Epoch    GPU_mem   box_loss   cls_loss   dfl_loss  Instances       Size\n"
     ]
    },
    {
     "name": "stderr",
     "output_type": "stream",
     "text": [
      "      31/50      4.69G     0.8865     0.4665     0.8065         56        640: 100%|██████████| 38/38 [00:15<00:00,  2.47it/s]\n",
      "                 Class     Images  Instances      Box(P          R      mAP50  mAP50-95): 100%|██████████| 4/4 [00:01<00:00,  3.32it/s]"
     ]
    },
    {
     "name": "stdout",
     "output_type": "stream",
     "text": [
      "                   all         49       1174      0.889      0.758      0.803      0.568\n"
     ]
    },
    {
     "name": "stderr",
     "output_type": "stream",
     "text": [
      "\n"
     ]
    },
    {
     "name": "stdout",
     "output_type": "stream",
     "text": [
      "\n",
      "      Epoch    GPU_mem   box_loss   cls_loss   dfl_loss  Instances       Size\n"
     ]
    },
    {
     "name": "stderr",
     "output_type": "stream",
     "text": [
      "      32/50      4.72G      0.896      0.471      0.802         46        640: 100%|██████████| 38/38 [00:16<00:00,  2.33it/s]\n",
      "                 Class     Images  Instances      Box(P          R      mAP50  mAP50-95): 100%|██████████| 4/4 [00:01<00:00,  3.37it/s]"
     ]
    },
    {
     "name": "stdout",
     "output_type": "stream",
     "text": [
      "                   all         49       1174      0.897      0.754      0.808      0.557\n"
     ]
    },
    {
     "name": "stderr",
     "output_type": "stream",
     "text": [
      "\n"
     ]
    },
    {
     "name": "stdout",
     "output_type": "stream",
     "text": [
      "\n",
      "      Epoch    GPU_mem   box_loss   cls_loss   dfl_loss  Instances       Size\n"
     ]
    },
    {
     "name": "stderr",
     "output_type": "stream",
     "text": [
      "      33/50       4.7G     0.8495     0.4509     0.8033         33        640: 100%|██████████| 38/38 [00:15<00:00,  2.47it/s]\n",
      "                 Class     Images  Instances      Box(P          R      mAP50  mAP50-95): 100%|██████████| 4/4 [00:01<00:00,  3.34it/s]"
     ]
    },
    {
     "name": "stdout",
     "output_type": "stream",
     "text": [
      "                   all         49       1174      0.912       0.76      0.819      0.566\n"
     ]
    },
    {
     "name": "stderr",
     "output_type": "stream",
     "text": [
      "\n"
     ]
    },
    {
     "name": "stdout",
     "output_type": "stream",
     "text": [
      "\n",
      "      Epoch    GPU_mem   box_loss   cls_loss   dfl_loss  Instances       Size\n"
     ]
    },
    {
     "name": "stderr",
     "output_type": "stream",
     "text": [
      "      34/50      4.74G     0.8589     0.4474     0.8066         37        640: 100%|██████████| 38/38 [00:15<00:00,  2.47it/s]\n",
      "                 Class     Images  Instances      Box(P          R      mAP50  mAP50-95): 100%|██████████| 4/4 [00:01<00:00,  3.35it/s]"
     ]
    },
    {
     "name": "stdout",
     "output_type": "stream",
     "text": [
      "                   all         49       1174      0.879      0.769      0.808      0.556\n"
     ]
    },
    {
     "name": "stderr",
     "output_type": "stream",
     "text": [
      "\n"
     ]
    },
    {
     "name": "stdout",
     "output_type": "stream",
     "text": [
      "\n",
      "      Epoch    GPU_mem   box_loss   cls_loss   dfl_loss  Instances       Size\n"
     ]
    },
    {
     "name": "stderr",
     "output_type": "stream",
     "text": [
      "      35/50       4.7G     0.8529     0.4448     0.8002        108        640: 100%|██████████| 38/38 [00:15<00:00,  2.46it/s]\n",
      "                 Class     Images  Instances      Box(P          R      mAP50  mAP50-95): 100%|██████████| 4/4 [00:01<00:00,  3.26it/s]"
     ]
    },
    {
     "name": "stdout",
     "output_type": "stream",
     "text": [
      "                   all         49       1174      0.846      0.776       0.81      0.572\n"
     ]
    },
    {
     "name": "stderr",
     "output_type": "stream",
     "text": [
      "\n"
     ]
    },
    {
     "name": "stdout",
     "output_type": "stream",
     "text": [
      "\n",
      "      Epoch    GPU_mem   box_loss   cls_loss   dfl_loss  Instances       Size\n"
     ]
    },
    {
     "name": "stderr",
     "output_type": "stream",
     "text": [
      "      36/50      4.66G     0.8509     0.4463     0.8021        119        640: 100%|██████████| 38/38 [00:15<00:00,  2.39it/s]\n",
      "                 Class     Images  Instances      Box(P          R      mAP50  mAP50-95): 100%|██████████| 4/4 [00:01<00:00,  3.09it/s]"
     ]
    },
    {
     "name": "stdout",
     "output_type": "stream",
     "text": [
      "                   all         49       1174      0.858      0.777      0.809      0.561\n"
     ]
    },
    {
     "name": "stderr",
     "output_type": "stream",
     "text": [
      "\n"
     ]
    },
    {
     "name": "stdout",
     "output_type": "stream",
     "text": [
      "\n",
      "      Epoch    GPU_mem   box_loss   cls_loss   dfl_loss  Instances       Size\n"
     ]
    },
    {
     "name": "stderr",
     "output_type": "stream",
     "text": [
      "      37/50      4.76G     0.8411     0.4346     0.8018         78        640: 100%|██████████| 38/38 [00:15<00:00,  2.43it/s]\n",
      "                 Class     Images  Instances      Box(P          R      mAP50  mAP50-95): 100%|██████████| 4/4 [00:01<00:00,  3.25it/s]"
     ]
    },
    {
     "name": "stdout",
     "output_type": "stream",
     "text": [
      "                   all         49       1174      0.895      0.747      0.809      0.567\n"
     ]
    },
    {
     "name": "stderr",
     "output_type": "stream",
     "text": [
      "\n"
     ]
    },
    {
     "name": "stdout",
     "output_type": "stream",
     "text": [
      "\n",
      "      Epoch    GPU_mem   box_loss   cls_loss   dfl_loss  Instances       Size\n"
     ]
    },
    {
     "name": "stderr",
     "output_type": "stream",
     "text": [
      "      38/50      4.76G     0.8476     0.4354     0.8012        112        640: 100%|██████████| 38/38 [00:15<00:00,  2.40it/s]\n",
      "                 Class     Images  Instances      Box(P          R      mAP50  mAP50-95): 100%|██████████| 4/4 [00:01<00:00,  3.14it/s]"
     ]
    },
    {
     "name": "stdout",
     "output_type": "stream",
     "text": [
      "                   all         49       1174      0.896      0.761      0.825      0.576\n"
     ]
    },
    {
     "name": "stderr",
     "output_type": "stream",
     "text": [
      "\n"
     ]
    },
    {
     "name": "stdout",
     "output_type": "stream",
     "text": [
      "\n",
      "      Epoch    GPU_mem   box_loss   cls_loss   dfl_loss  Instances       Size\n"
     ]
    },
    {
     "name": "stderr",
     "output_type": "stream",
     "text": [
      "      39/50      4.72G     0.8332      0.434     0.7979         45        640: 100%|██████████| 38/38 [00:15<00:00,  2.40it/s]\n",
      "                 Class     Images  Instances      Box(P          R      mAP50  mAP50-95): 100%|██████████| 4/4 [00:01<00:00,  3.28it/s]"
     ]
    },
    {
     "name": "stdout",
     "output_type": "stream",
     "text": [
      "                   all         49       1174       0.87      0.771      0.805       0.56\n"
     ]
    },
    {
     "name": "stderr",
     "output_type": "stream",
     "text": [
      "\n"
     ]
    },
    {
     "name": "stdout",
     "output_type": "stream",
     "text": [
      "\n",
      "      Epoch    GPU_mem   box_loss   cls_loss   dfl_loss  Instances       Size\n"
     ]
    },
    {
     "name": "stderr",
     "output_type": "stream",
     "text": [
      "      40/50      4.74G      0.841     0.4353     0.8007         48        640: 100%|██████████| 38/38 [00:15<00:00,  2.43it/s]\n",
      "                 Class     Images  Instances      Box(P          R      mAP50  mAP50-95): 100%|██████████| 4/4 [00:01<00:00,  3.06it/s]"
     ]
    },
    {
     "name": "stdout",
     "output_type": "stream",
     "text": [
      "                   all         49       1174      0.876      0.753      0.797      0.561\n"
     ]
    },
    {
     "name": "stderr",
     "output_type": "stream",
     "text": [
      "\n"
     ]
    },
    {
     "name": "stdout",
     "output_type": "stream",
     "text": [
      "Closing dataloader mosaic\n",
      "\n",
      "      Epoch    GPU_mem   box_loss   cls_loss   dfl_loss  Instances       Size\n"
     ]
    },
    {
     "name": "stderr",
     "output_type": "stream",
     "text": [
      "      41/50      4.66G      0.779      0.412     0.8059         45        640: 100%|██████████| 38/38 [00:15<00:00,  2.50it/s]\n",
      "                 Class     Images  Instances      Box(P          R      mAP50  mAP50-95): 100%|██████████| 4/4 [00:01<00:00,  3.06it/s]"
     ]
    },
    {
     "name": "stdout",
     "output_type": "stream",
     "text": [
      "                   all         49       1174      0.819       0.75      0.774      0.553\n"
     ]
    },
    {
     "name": "stderr",
     "output_type": "stream",
     "text": [
      "\n"
     ]
    },
    {
     "name": "stdout",
     "output_type": "stream",
     "text": [
      "\n",
      "      Epoch    GPU_mem   box_loss   cls_loss   dfl_loss  Instances       Size\n"
     ]
    },
    {
     "name": "stderr",
     "output_type": "stream",
     "text": [
      "      42/50      4.67G     0.7603     0.4028      0.804         45        640: 100%|██████████| 38/38 [00:15<00:00,  2.48it/s]\n",
      "                 Class     Images  Instances      Box(P          R      mAP50  mAP50-95): 100%|██████████| 4/4 [00:01<00:00,  3.31it/s]"
     ]
    },
    {
     "name": "stdout",
     "output_type": "stream",
     "text": [
      "                   all         49       1174      0.873       0.76      0.789      0.554\n"
     ]
    },
    {
     "name": "stderr",
     "output_type": "stream",
     "text": [
      "\n"
     ]
    },
    {
     "name": "stdout",
     "output_type": "stream",
     "text": [
      "\n",
      "      Epoch    GPU_mem   box_loss   cls_loss   dfl_loss  Instances       Size\n"
     ]
    },
    {
     "name": "stderr",
     "output_type": "stream",
     "text": [
      "      43/50      4.68G     0.7514     0.4012      0.796         46        640: 100%|██████████| 38/38 [00:15<00:00,  2.52it/s]\n",
      "                 Class     Images  Instances      Box(P          R      mAP50  mAP50-95): 100%|██████████| 4/4 [00:01<00:00,  3.23it/s]"
     ]
    },
    {
     "name": "stdout",
     "output_type": "stream",
     "text": [
      "                   all         49       1174       0.89      0.779      0.805      0.566\n"
     ]
    },
    {
     "name": "stderr",
     "output_type": "stream",
     "text": [
      "\n"
     ]
    },
    {
     "name": "stdout",
     "output_type": "stream",
     "text": [
      "\n",
      "      Epoch    GPU_mem   box_loss   cls_loss   dfl_loss  Instances       Size\n"
     ]
    },
    {
     "name": "stderr",
     "output_type": "stream",
     "text": [
      "      44/50      4.64G     0.7513      0.396     0.7987         43        640: 100%|██████████| 38/38 [00:15<00:00,  2.52it/s]\n",
      "                 Class     Images  Instances      Box(P          R      mAP50  mAP50-95): 100%|██████████| 4/4 [00:01<00:00,  3.28it/s]"
     ]
    },
    {
     "name": "stdout",
     "output_type": "stream",
     "text": [
      "                   all         49       1174        0.9       0.78      0.814      0.568\n"
     ]
    },
    {
     "name": "stderr",
     "output_type": "stream",
     "text": [
      "\n"
     ]
    },
    {
     "name": "stdout",
     "output_type": "stream",
     "text": [
      "\n",
      "      Epoch    GPU_mem   box_loss   cls_loss   dfl_loss  Instances       Size\n"
     ]
    },
    {
     "name": "stderr",
     "output_type": "stream",
     "text": [
      "      45/50      4.68G     0.7588     0.3964     0.7988         45        640: 100%|██████████| 38/38 [00:15<00:00,  2.52it/s]\n",
      "                 Class     Images  Instances      Box(P          R      mAP50  mAP50-95): 100%|██████████| 4/4 [00:01<00:00,  3.39it/s]"
     ]
    },
    {
     "name": "stdout",
     "output_type": "stream",
     "text": [
      "                   all         49       1174      0.896      0.765      0.805      0.558\n"
     ]
    },
    {
     "name": "stderr",
     "output_type": "stream",
     "text": [
      "\n"
     ]
    },
    {
     "name": "stdout",
     "output_type": "stream",
     "text": [
      "\n",
      "      Epoch    GPU_mem   box_loss   cls_loss   dfl_loss  Instances       Size\n"
     ]
    },
    {
     "name": "stderr",
     "output_type": "stream",
     "text": [
      "      46/50      4.69G     0.7493     0.3956     0.7969         46        640: 100%|██████████| 38/38 [00:14<00:00,  2.55it/s]\n",
      "                 Class     Images  Instances      Box(P          R      mAP50  mAP50-95): 100%|██████████| 4/4 [00:01<00:00,  3.19it/s]"
     ]
    },
    {
     "name": "stdout",
     "output_type": "stream",
     "text": [
      "                   all         49       1174      0.875      0.764      0.806      0.568\n"
     ]
    },
    {
     "name": "stderr",
     "output_type": "stream",
     "text": [
      "\n"
     ]
    },
    {
     "name": "stdout",
     "output_type": "stream",
     "text": [
      "\n",
      "      Epoch    GPU_mem   box_loss   cls_loss   dfl_loss  Instances       Size\n"
     ]
    },
    {
     "name": "stderr",
     "output_type": "stream",
     "text": [
      "      47/50      4.69G     0.7379      0.385     0.7973         47        640: 100%|██████████| 38/38 [00:14<00:00,  2.54it/s]\n",
      "                 Class     Images  Instances      Box(P          R      mAP50  mAP50-95): 100%|██████████| 4/4 [00:01<00:00,  3.27it/s]"
     ]
    },
    {
     "name": "stdout",
     "output_type": "stream",
     "text": [
      "                   all         49       1174      0.899      0.768      0.805      0.572\n"
     ]
    },
    {
     "name": "stderr",
     "output_type": "stream",
     "text": [
      "\n"
     ]
    },
    {
     "name": "stdout",
     "output_type": "stream",
     "text": [
      "\n",
      "      Epoch    GPU_mem   box_loss   cls_loss   dfl_loss  Instances       Size\n"
     ]
    },
    {
     "name": "stderr",
     "output_type": "stream",
     "text": [
      "      48/50      4.64G     0.7321     0.3812     0.7927         46        640: 100%|██████████| 38/38 [00:15<00:00,  2.52it/s]\n",
      "                 Class     Images  Instances      Box(P          R      mAP50  mAP50-95): 100%|██████████| 4/4 [00:01<00:00,  3.33it/s]"
     ]
    },
    {
     "name": "stdout",
     "output_type": "stream",
     "text": [
      "                   all         49       1174      0.899      0.784      0.815      0.568\n"
     ]
    },
    {
     "name": "stderr",
     "output_type": "stream",
     "text": [
      "\n"
     ]
    },
    {
     "name": "stdout",
     "output_type": "stream",
     "text": [
      "\n",
      "      Epoch    GPU_mem   box_loss   cls_loss   dfl_loss  Instances       Size\n"
     ]
    },
    {
     "name": "stderr",
     "output_type": "stream",
     "text": [
      "      49/50      4.68G     0.7107     0.3764     0.7963         47        640: 100%|██████████| 38/38 [00:14<00:00,  2.55it/s]\n",
      "                 Class     Images  Instances      Box(P          R      mAP50  mAP50-95): 100%|██████████| 4/4 [00:01<00:00,  3.30it/s]"
     ]
    },
    {
     "name": "stdout",
     "output_type": "stream",
     "text": [
      "                   all         49       1174      0.903      0.784      0.821      0.577\n"
     ]
    },
    {
     "name": "stderr",
     "output_type": "stream",
     "text": [
      "\n"
     ]
    },
    {
     "name": "stdout",
     "output_type": "stream",
     "text": [
      "\n",
      "      Epoch    GPU_mem   box_loss   cls_loss   dfl_loss  Instances       Size\n"
     ]
    },
    {
     "name": "stderr",
     "output_type": "stream",
     "text": [
      "      50/50      4.66G      0.717      0.374     0.7925         48        640: 100%|██████████| 38/38 [00:14<00:00,  2.54it/s]\n",
      "                 Class     Images  Instances      Box(P          R      mAP50  mAP50-95): 100%|██████████| 4/4 [00:01<00:00,  3.25it/s]"
     ]
    },
    {
     "name": "stdout",
     "output_type": "stream",
     "text": [
      "                   all         49       1174      0.885      0.777      0.812      0.572\n"
     ]
    },
    {
     "name": "stderr",
     "output_type": "stream",
     "text": [
      "\n"
     ]
    },
    {
     "name": "stdout",
     "output_type": "stream",
     "text": [
      "\n",
      "50 epochs completed in 0.241 hours.\n",
      "Optimizer stripped from runs/detect/train2/weights/last.pt, 40.5MB\n",
      "Optimizer stripped from runs/detect/train2/weights/best.pt, 40.5MB\n",
      "\n",
      "Validating runs/detect/train2/weights/best.pt...\n",
      "Ultralytics 8.3.25 🚀 Python-3.8.20 torch-2.4.1+cu118 CUDA:0 (NVIDIA GeForce RTX 4060, 8188MiB)\n",
      "YOLO11m summary (fused): 303 layers, 20,033,116 parameters, 0 gradients, 67.7 GFLOPs\n"
     ]
    },
    {
     "name": "stderr",
     "output_type": "stream",
     "text": [
      "                 Class     Images  Instances      Box(P          R      mAP50  mAP50-95): 100%|██████████| 4/4 [00:02<00:00,  1.40it/s]\n"
     ]
    },
    {
     "name": "stdout",
     "output_type": "stream",
     "text": [
      "                   all         49       1174      0.903      0.784      0.821      0.577\n",
      "                  ball         45         45       0.86      0.356      0.409      0.167\n",
      "            goalkeeper         38         39      0.877      0.923      0.929      0.695\n",
      "                player         49        973      0.951       0.96      0.988      0.806\n",
      "               referee         49        117      0.924      0.897      0.958      0.641\n",
      "Speed: 3.3ms preprocess, 16.2ms inference, 0.0ms loss, 1.5ms postprocess per image\n",
      "Results saved to \u001b[1mruns/detect/train2\u001b[0m\n"
     ]
    },
    {
     "data": {
      "text/plain": [
       "ultralytics.utils.metrics.DetMetrics object with attributes:\n",
       "\n",
       "ap_class_index: array([0, 1, 2, 3])\n",
       "box: ultralytics.utils.metrics.Metric object\n",
       "confusion_matrix: <ultralytics.utils.metrics.ConfusionMatrix object at 0x7f82b4c09190>\n",
       "curves: ['Precision-Recall(B)', 'F1-Confidence(B)', 'Precision-Confidence(B)', 'Recall-Confidence(B)']\n",
       "curves_results: [[array([          0,    0.001001,    0.002002,    0.003003,    0.004004,    0.005005,    0.006006,    0.007007,    0.008008,    0.009009,     0.01001,    0.011011,    0.012012,    0.013013,    0.014014,    0.015015,    0.016016,    0.017017,    0.018018,    0.019019,     0.02002,    0.021021,    0.022022,    0.023023,\n",
       "          0.024024,    0.025025,    0.026026,    0.027027,    0.028028,    0.029029,     0.03003,    0.031031,    0.032032,    0.033033,    0.034034,    0.035035,    0.036036,    0.037037,    0.038038,    0.039039,     0.04004,    0.041041,    0.042042,    0.043043,    0.044044,    0.045045,    0.046046,    0.047047,\n",
       "          0.048048,    0.049049,     0.05005,    0.051051,    0.052052,    0.053053,    0.054054,    0.055055,    0.056056,    0.057057,    0.058058,    0.059059,     0.06006,    0.061061,    0.062062,    0.063063,    0.064064,    0.065065,    0.066066,    0.067067,    0.068068,    0.069069,     0.07007,    0.071071,\n",
       "          0.072072,    0.073073,    0.074074,    0.075075,    0.076076,    0.077077,    0.078078,    0.079079,     0.08008,    0.081081,    0.082082,    0.083083,    0.084084,    0.085085,    0.086086,    0.087087,    0.088088,    0.089089,     0.09009,    0.091091,    0.092092,    0.093093,    0.094094,    0.095095,\n",
       "          0.096096,    0.097097,    0.098098,    0.099099,      0.1001,      0.1011,      0.1021,      0.1031,      0.1041,     0.10511,     0.10611,     0.10711,     0.10811,     0.10911,     0.11011,     0.11111,     0.11211,     0.11311,     0.11411,     0.11512,     0.11612,     0.11712,     0.11812,     0.11912,\n",
       "           0.12012,     0.12112,     0.12212,     0.12312,     0.12412,     0.12513,     0.12613,     0.12713,     0.12813,     0.12913,     0.13013,     0.13113,     0.13213,     0.13313,     0.13413,     0.13514,     0.13614,     0.13714,     0.13814,     0.13914,     0.14014,     0.14114,     0.14214,     0.14314,\n",
       "           0.14414,     0.14515,     0.14615,     0.14715,     0.14815,     0.14915,     0.15015,     0.15115,     0.15215,     0.15315,     0.15415,     0.15516,     0.15616,     0.15716,     0.15816,     0.15916,     0.16016,     0.16116,     0.16216,     0.16316,     0.16416,     0.16517,     0.16617,     0.16717,\n",
       "           0.16817,     0.16917,     0.17017,     0.17117,     0.17217,     0.17317,     0.17417,     0.17518,     0.17618,     0.17718,     0.17818,     0.17918,     0.18018,     0.18118,     0.18218,     0.18318,     0.18418,     0.18519,     0.18619,     0.18719,     0.18819,     0.18919,     0.19019,     0.19119,\n",
       "           0.19219,     0.19319,     0.19419,      0.1952,      0.1962,      0.1972,      0.1982,      0.1992,      0.2002,      0.2012,      0.2022,      0.2032,      0.2042,     0.20521,     0.20621,     0.20721,     0.20821,     0.20921,     0.21021,     0.21121,     0.21221,     0.21321,     0.21421,     0.21522,\n",
       "           0.21622,     0.21722,     0.21822,     0.21922,     0.22022,     0.22122,     0.22222,     0.22322,     0.22422,     0.22523,     0.22623,     0.22723,     0.22823,     0.22923,     0.23023,     0.23123,     0.23223,     0.23323,     0.23423,     0.23524,     0.23624,     0.23724,     0.23824,     0.23924,\n",
       "           0.24024,     0.24124,     0.24224,     0.24324,     0.24424,     0.24525,     0.24625,     0.24725,     0.24825,     0.24925,     0.25025,     0.25125,     0.25225,     0.25325,     0.25425,     0.25526,     0.25626,     0.25726,     0.25826,     0.25926,     0.26026,     0.26126,     0.26226,     0.26326,\n",
       "           0.26426,     0.26527,     0.26627,     0.26727,     0.26827,     0.26927,     0.27027,     0.27127,     0.27227,     0.27327,     0.27427,     0.27528,     0.27628,     0.27728,     0.27828,     0.27928,     0.28028,     0.28128,     0.28228,     0.28328,     0.28428,     0.28529,     0.28629,     0.28729,\n",
       "           0.28829,     0.28929,     0.29029,     0.29129,     0.29229,     0.29329,     0.29429,      0.2953,      0.2963,      0.2973,      0.2983,      0.2993,      0.3003,      0.3013,      0.3023,      0.3033,      0.3043,     0.30531,     0.30631,     0.30731,     0.30831,     0.30931,     0.31031,     0.31131,\n",
       "           0.31231,     0.31331,     0.31431,     0.31532,     0.31632,     0.31732,     0.31832,     0.31932,     0.32032,     0.32132,     0.32232,     0.32332,     0.32432,     0.32533,     0.32633,     0.32733,     0.32833,     0.32933,     0.33033,     0.33133,     0.33233,     0.33333,     0.33433,     0.33534,\n",
       "           0.33634,     0.33734,     0.33834,     0.33934,     0.34034,     0.34134,     0.34234,     0.34334,     0.34434,     0.34535,     0.34635,     0.34735,     0.34835,     0.34935,     0.35035,     0.35135,     0.35235,     0.35335,     0.35435,     0.35536,     0.35636,     0.35736,     0.35836,     0.35936,\n",
       "           0.36036,     0.36136,     0.36236,     0.36336,     0.36436,     0.36537,     0.36637,     0.36737,     0.36837,     0.36937,     0.37037,     0.37137,     0.37237,     0.37337,     0.37437,     0.37538,     0.37638,     0.37738,     0.37838,     0.37938,     0.38038,     0.38138,     0.38238,     0.38338,\n",
       "           0.38438,     0.38539,     0.38639,     0.38739,     0.38839,     0.38939,     0.39039,     0.39139,     0.39239,     0.39339,     0.39439,      0.3954,      0.3964,      0.3974,      0.3984,      0.3994,      0.4004,      0.4014,      0.4024,      0.4034,      0.4044,     0.40541,     0.40641,     0.40741,\n",
       "           0.40841,     0.40941,     0.41041,     0.41141,     0.41241,     0.41341,     0.41441,     0.41542,     0.41642,     0.41742,     0.41842,     0.41942,     0.42042,     0.42142,     0.42242,     0.42342,     0.42442,     0.42543,     0.42643,     0.42743,     0.42843,     0.42943,     0.43043,     0.43143,\n",
       "           0.43243,     0.43343,     0.43443,     0.43544,     0.43644,     0.43744,     0.43844,     0.43944,     0.44044,     0.44144,     0.44244,     0.44344,     0.44444,     0.44545,     0.44645,     0.44745,     0.44845,     0.44945,     0.45045,     0.45145,     0.45245,     0.45345,     0.45445,     0.45546,\n",
       "           0.45646,     0.45746,     0.45846,     0.45946,     0.46046,     0.46146,     0.46246,     0.46346,     0.46446,     0.46547,     0.46647,     0.46747,     0.46847,     0.46947,     0.47047,     0.47147,     0.47247,     0.47347,     0.47447,     0.47548,     0.47648,     0.47748,     0.47848,     0.47948,\n",
       "           0.48048,     0.48148,     0.48248,     0.48348,     0.48448,     0.48549,     0.48649,     0.48749,     0.48849,     0.48949,     0.49049,     0.49149,     0.49249,     0.49349,     0.49449,      0.4955,      0.4965,      0.4975,      0.4985,      0.4995,      0.5005,      0.5015,      0.5025,      0.5035,\n",
       "            0.5045,     0.50551,     0.50651,     0.50751,     0.50851,     0.50951,     0.51051,     0.51151,     0.51251,     0.51351,     0.51451,     0.51552,     0.51652,     0.51752,     0.51852,     0.51952,     0.52052,     0.52152,     0.52252,     0.52352,     0.52452,     0.52553,     0.52653,     0.52753,\n",
       "           0.52853,     0.52953,     0.53053,     0.53153,     0.53253,     0.53353,     0.53453,     0.53554,     0.53654,     0.53754,     0.53854,     0.53954,     0.54054,     0.54154,     0.54254,     0.54354,     0.54454,     0.54555,     0.54655,     0.54755,     0.54855,     0.54955,     0.55055,     0.55155,\n",
       "           0.55255,     0.55355,     0.55455,     0.55556,     0.55656,     0.55756,     0.55856,     0.55956,     0.56056,     0.56156,     0.56256,     0.56356,     0.56456,     0.56557,     0.56657,     0.56757,     0.56857,     0.56957,     0.57057,     0.57157,     0.57257,     0.57357,     0.57457,     0.57558,\n",
       "           0.57658,     0.57758,     0.57858,     0.57958,     0.58058,     0.58158,     0.58258,     0.58358,     0.58458,     0.58559,     0.58659,     0.58759,     0.58859,     0.58959,     0.59059,     0.59159,     0.59259,     0.59359,     0.59459,      0.5956,      0.5966,      0.5976,      0.5986,      0.5996,\n",
       "            0.6006,      0.6016,      0.6026,      0.6036,      0.6046,     0.60561,     0.60661,     0.60761,     0.60861,     0.60961,     0.61061,     0.61161,     0.61261,     0.61361,     0.61461,     0.61562,     0.61662,     0.61762,     0.61862,     0.61962,     0.62062,     0.62162,     0.62262,     0.62362,\n",
       "           0.62462,     0.62563,     0.62663,     0.62763,     0.62863,     0.62963,     0.63063,     0.63163,     0.63263,     0.63363,     0.63463,     0.63564,     0.63664,     0.63764,     0.63864,     0.63964,     0.64064,     0.64164,     0.64264,     0.64364,     0.64464,     0.64565,     0.64665,     0.64765,\n",
       "           0.64865,     0.64965,     0.65065,     0.65165,     0.65265,     0.65365,     0.65465,     0.65566,     0.65666,     0.65766,     0.65866,     0.65966,     0.66066,     0.66166,     0.66266,     0.66366,     0.66466,     0.66567,     0.66667,     0.66767,     0.66867,     0.66967,     0.67067,     0.67167,\n",
       "           0.67267,     0.67367,     0.67467,     0.67568,     0.67668,     0.67768,     0.67868,     0.67968,     0.68068,     0.68168,     0.68268,     0.68368,     0.68468,     0.68569,     0.68669,     0.68769,     0.68869,     0.68969,     0.69069,     0.69169,     0.69269,     0.69369,     0.69469,      0.6957,\n",
       "            0.6967,      0.6977,      0.6987,      0.6997,      0.7007,      0.7017,      0.7027,      0.7037,      0.7047,     0.70571,     0.70671,     0.70771,     0.70871,     0.70971,     0.71071,     0.71171,     0.71271,     0.71371,     0.71471,     0.71572,     0.71672,     0.71772,     0.71872,     0.71972,\n",
       "           0.72072,     0.72172,     0.72272,     0.72372,     0.72472,     0.72573,     0.72673,     0.72773,     0.72873,     0.72973,     0.73073,     0.73173,     0.73273,     0.73373,     0.73473,     0.73574,     0.73674,     0.73774,     0.73874,     0.73974,     0.74074,     0.74174,     0.74274,     0.74374,\n",
       "           0.74474,     0.74575,     0.74675,     0.74775,     0.74875,     0.74975,     0.75075,     0.75175,     0.75275,     0.75375,     0.75475,     0.75576,     0.75676,     0.75776,     0.75876,     0.75976,     0.76076,     0.76176,     0.76276,     0.76376,     0.76476,     0.76577,     0.76677,     0.76777,\n",
       "           0.76877,     0.76977,     0.77077,     0.77177,     0.77277,     0.77377,     0.77477,     0.77578,     0.77678,     0.77778,     0.77878,     0.77978,     0.78078,     0.78178,     0.78278,     0.78378,     0.78478,     0.78579,     0.78679,     0.78779,     0.78879,     0.78979,     0.79079,     0.79179,\n",
       "           0.79279,     0.79379,     0.79479,      0.7958,      0.7968,      0.7978,      0.7988,      0.7998,      0.8008,      0.8018,      0.8028,      0.8038,      0.8048,     0.80581,     0.80681,     0.80781,     0.80881,     0.80981,     0.81081,     0.81181,     0.81281,     0.81381,     0.81481,     0.81582,\n",
       "           0.81682,     0.81782,     0.81882,     0.81982,     0.82082,     0.82182,     0.82282,     0.82382,     0.82482,     0.82583,     0.82683,     0.82783,     0.82883,     0.82983,     0.83083,     0.83183,     0.83283,     0.83383,     0.83483,     0.83584,     0.83684,     0.83784,     0.83884,     0.83984,\n",
       "           0.84084,     0.84184,     0.84284,     0.84384,     0.84484,     0.84585,     0.84685,     0.84785,     0.84885,     0.84985,     0.85085,     0.85185,     0.85285,     0.85385,     0.85485,     0.85586,     0.85686,     0.85786,     0.85886,     0.85986,     0.86086,     0.86186,     0.86286,     0.86386,\n",
       "           0.86486,     0.86587,     0.86687,     0.86787,     0.86887,     0.86987,     0.87087,     0.87187,     0.87287,     0.87387,     0.87487,     0.87588,     0.87688,     0.87788,     0.87888,     0.87988,     0.88088,     0.88188,     0.88288,     0.88388,     0.88488,     0.88589,     0.88689,     0.88789,\n",
       "           0.88889,     0.88989,     0.89089,     0.89189,     0.89289,     0.89389,     0.89489,      0.8959,      0.8969,      0.8979,      0.8989,      0.8999,      0.9009,      0.9019,      0.9029,      0.9039,      0.9049,     0.90591,     0.90691,     0.90791,     0.90891,     0.90991,     0.91091,     0.91191,\n",
       "           0.91291,     0.91391,     0.91491,     0.91592,     0.91692,     0.91792,     0.91892,     0.91992,     0.92092,     0.92192,     0.92292,     0.92392,     0.92492,     0.92593,     0.92693,     0.92793,     0.92893,     0.92993,     0.93093,     0.93193,     0.93293,     0.93393,     0.93493,     0.93594,\n",
       "           0.93694,     0.93794,     0.93894,     0.93994,     0.94094,     0.94194,     0.94294,     0.94394,     0.94494,     0.94595,     0.94695,     0.94795,     0.94895,     0.94995,     0.95095,     0.95195,     0.95295,     0.95395,     0.95495,     0.95596,     0.95696,     0.95796,     0.95896,     0.95996,\n",
       "           0.96096,     0.96196,     0.96296,     0.96396,     0.96496,     0.96597,     0.96697,     0.96797,     0.96897,     0.96997,     0.97097,     0.97197,     0.97297,     0.97397,     0.97497,     0.97598,     0.97698,     0.97798,     0.97898,     0.97998,     0.98098,     0.98198,     0.98298,     0.98398,\n",
       "           0.98498,     0.98599,     0.98699,     0.98799,     0.98899,     0.98999,     0.99099,     0.99199,     0.99299,     0.99399,     0.99499,       0.996,       0.997,       0.998,       0.999,           1]), array([[    0.88889,     0.88889,     0.88889, ...,   0.0004163,  0.00020815,           0],\n",
       "       [          1,           1,           1, ...,    0.015453,   0.0077265,           0],\n",
       "       [          1,           1,           1, ...,     0.13307,    0.066533,           0],\n",
       "       [          1,           1,           1, ...,    0.051558,    0.025779,           0]]), 'Recall', 'Precision'], [array([          0,    0.001001,    0.002002,    0.003003,    0.004004,    0.005005,    0.006006,    0.007007,    0.008008,    0.009009,     0.01001,    0.011011,    0.012012,    0.013013,    0.014014,    0.015015,    0.016016,    0.017017,    0.018018,    0.019019,     0.02002,    0.021021,    0.022022,    0.023023,\n",
       "          0.024024,    0.025025,    0.026026,    0.027027,    0.028028,    0.029029,     0.03003,    0.031031,    0.032032,    0.033033,    0.034034,    0.035035,    0.036036,    0.037037,    0.038038,    0.039039,     0.04004,    0.041041,    0.042042,    0.043043,    0.044044,    0.045045,    0.046046,    0.047047,\n",
       "          0.048048,    0.049049,     0.05005,    0.051051,    0.052052,    0.053053,    0.054054,    0.055055,    0.056056,    0.057057,    0.058058,    0.059059,     0.06006,    0.061061,    0.062062,    0.063063,    0.064064,    0.065065,    0.066066,    0.067067,    0.068068,    0.069069,     0.07007,    0.071071,\n",
       "          0.072072,    0.073073,    0.074074,    0.075075,    0.076076,    0.077077,    0.078078,    0.079079,     0.08008,    0.081081,    0.082082,    0.083083,    0.084084,    0.085085,    0.086086,    0.087087,    0.088088,    0.089089,     0.09009,    0.091091,    0.092092,    0.093093,    0.094094,    0.095095,\n",
       "          0.096096,    0.097097,    0.098098,    0.099099,      0.1001,      0.1011,      0.1021,      0.1031,      0.1041,     0.10511,     0.10611,     0.10711,     0.10811,     0.10911,     0.11011,     0.11111,     0.11211,     0.11311,     0.11411,     0.11512,     0.11612,     0.11712,     0.11812,     0.11912,\n",
       "           0.12012,     0.12112,     0.12212,     0.12312,     0.12412,     0.12513,     0.12613,     0.12713,     0.12813,     0.12913,     0.13013,     0.13113,     0.13213,     0.13313,     0.13413,     0.13514,     0.13614,     0.13714,     0.13814,     0.13914,     0.14014,     0.14114,     0.14214,     0.14314,\n",
       "           0.14414,     0.14515,     0.14615,     0.14715,     0.14815,     0.14915,     0.15015,     0.15115,     0.15215,     0.15315,     0.15415,     0.15516,     0.15616,     0.15716,     0.15816,     0.15916,     0.16016,     0.16116,     0.16216,     0.16316,     0.16416,     0.16517,     0.16617,     0.16717,\n",
       "           0.16817,     0.16917,     0.17017,     0.17117,     0.17217,     0.17317,     0.17417,     0.17518,     0.17618,     0.17718,     0.17818,     0.17918,     0.18018,     0.18118,     0.18218,     0.18318,     0.18418,     0.18519,     0.18619,     0.18719,     0.18819,     0.18919,     0.19019,     0.19119,\n",
       "           0.19219,     0.19319,     0.19419,      0.1952,      0.1962,      0.1972,      0.1982,      0.1992,      0.2002,      0.2012,      0.2022,      0.2032,      0.2042,     0.20521,     0.20621,     0.20721,     0.20821,     0.20921,     0.21021,     0.21121,     0.21221,     0.21321,     0.21421,     0.21522,\n",
       "           0.21622,     0.21722,     0.21822,     0.21922,     0.22022,     0.22122,     0.22222,     0.22322,     0.22422,     0.22523,     0.22623,     0.22723,     0.22823,     0.22923,     0.23023,     0.23123,     0.23223,     0.23323,     0.23423,     0.23524,     0.23624,     0.23724,     0.23824,     0.23924,\n",
       "           0.24024,     0.24124,     0.24224,     0.24324,     0.24424,     0.24525,     0.24625,     0.24725,     0.24825,     0.24925,     0.25025,     0.25125,     0.25225,     0.25325,     0.25425,     0.25526,     0.25626,     0.25726,     0.25826,     0.25926,     0.26026,     0.26126,     0.26226,     0.26326,\n",
       "           0.26426,     0.26527,     0.26627,     0.26727,     0.26827,     0.26927,     0.27027,     0.27127,     0.27227,     0.27327,     0.27427,     0.27528,     0.27628,     0.27728,     0.27828,     0.27928,     0.28028,     0.28128,     0.28228,     0.28328,     0.28428,     0.28529,     0.28629,     0.28729,\n",
       "           0.28829,     0.28929,     0.29029,     0.29129,     0.29229,     0.29329,     0.29429,      0.2953,      0.2963,      0.2973,      0.2983,      0.2993,      0.3003,      0.3013,      0.3023,      0.3033,      0.3043,     0.30531,     0.30631,     0.30731,     0.30831,     0.30931,     0.31031,     0.31131,\n",
       "           0.31231,     0.31331,     0.31431,     0.31532,     0.31632,     0.31732,     0.31832,     0.31932,     0.32032,     0.32132,     0.32232,     0.32332,     0.32432,     0.32533,     0.32633,     0.32733,     0.32833,     0.32933,     0.33033,     0.33133,     0.33233,     0.33333,     0.33433,     0.33534,\n",
       "           0.33634,     0.33734,     0.33834,     0.33934,     0.34034,     0.34134,     0.34234,     0.34334,     0.34434,     0.34535,     0.34635,     0.34735,     0.34835,     0.34935,     0.35035,     0.35135,     0.35235,     0.35335,     0.35435,     0.35536,     0.35636,     0.35736,     0.35836,     0.35936,\n",
       "           0.36036,     0.36136,     0.36236,     0.36336,     0.36436,     0.36537,     0.36637,     0.36737,     0.36837,     0.36937,     0.37037,     0.37137,     0.37237,     0.37337,     0.37437,     0.37538,     0.37638,     0.37738,     0.37838,     0.37938,     0.38038,     0.38138,     0.38238,     0.38338,\n",
       "           0.38438,     0.38539,     0.38639,     0.38739,     0.38839,     0.38939,     0.39039,     0.39139,     0.39239,     0.39339,     0.39439,      0.3954,      0.3964,      0.3974,      0.3984,      0.3994,      0.4004,      0.4014,      0.4024,      0.4034,      0.4044,     0.40541,     0.40641,     0.40741,\n",
       "           0.40841,     0.40941,     0.41041,     0.41141,     0.41241,     0.41341,     0.41441,     0.41542,     0.41642,     0.41742,     0.41842,     0.41942,     0.42042,     0.42142,     0.42242,     0.42342,     0.42442,     0.42543,     0.42643,     0.42743,     0.42843,     0.42943,     0.43043,     0.43143,\n",
       "           0.43243,     0.43343,     0.43443,     0.43544,     0.43644,     0.43744,     0.43844,     0.43944,     0.44044,     0.44144,     0.44244,     0.44344,     0.44444,     0.44545,     0.44645,     0.44745,     0.44845,     0.44945,     0.45045,     0.45145,     0.45245,     0.45345,     0.45445,     0.45546,\n",
       "           0.45646,     0.45746,     0.45846,     0.45946,     0.46046,     0.46146,     0.46246,     0.46346,     0.46446,     0.46547,     0.46647,     0.46747,     0.46847,     0.46947,     0.47047,     0.47147,     0.47247,     0.47347,     0.47447,     0.47548,     0.47648,     0.47748,     0.47848,     0.47948,\n",
       "           0.48048,     0.48148,     0.48248,     0.48348,     0.48448,     0.48549,     0.48649,     0.48749,     0.48849,     0.48949,     0.49049,     0.49149,     0.49249,     0.49349,     0.49449,      0.4955,      0.4965,      0.4975,      0.4985,      0.4995,      0.5005,      0.5015,      0.5025,      0.5035,\n",
       "            0.5045,     0.50551,     0.50651,     0.50751,     0.50851,     0.50951,     0.51051,     0.51151,     0.51251,     0.51351,     0.51451,     0.51552,     0.51652,     0.51752,     0.51852,     0.51952,     0.52052,     0.52152,     0.52252,     0.52352,     0.52452,     0.52553,     0.52653,     0.52753,\n",
       "           0.52853,     0.52953,     0.53053,     0.53153,     0.53253,     0.53353,     0.53453,     0.53554,     0.53654,     0.53754,     0.53854,     0.53954,     0.54054,     0.54154,     0.54254,     0.54354,     0.54454,     0.54555,     0.54655,     0.54755,     0.54855,     0.54955,     0.55055,     0.55155,\n",
       "           0.55255,     0.55355,     0.55455,     0.55556,     0.55656,     0.55756,     0.55856,     0.55956,     0.56056,     0.56156,     0.56256,     0.56356,     0.56456,     0.56557,     0.56657,     0.56757,     0.56857,     0.56957,     0.57057,     0.57157,     0.57257,     0.57357,     0.57457,     0.57558,\n",
       "           0.57658,     0.57758,     0.57858,     0.57958,     0.58058,     0.58158,     0.58258,     0.58358,     0.58458,     0.58559,     0.58659,     0.58759,     0.58859,     0.58959,     0.59059,     0.59159,     0.59259,     0.59359,     0.59459,      0.5956,      0.5966,      0.5976,      0.5986,      0.5996,\n",
       "            0.6006,      0.6016,      0.6026,      0.6036,      0.6046,     0.60561,     0.60661,     0.60761,     0.60861,     0.60961,     0.61061,     0.61161,     0.61261,     0.61361,     0.61461,     0.61562,     0.61662,     0.61762,     0.61862,     0.61962,     0.62062,     0.62162,     0.62262,     0.62362,\n",
       "           0.62462,     0.62563,     0.62663,     0.62763,     0.62863,     0.62963,     0.63063,     0.63163,     0.63263,     0.63363,     0.63463,     0.63564,     0.63664,     0.63764,     0.63864,     0.63964,     0.64064,     0.64164,     0.64264,     0.64364,     0.64464,     0.64565,     0.64665,     0.64765,\n",
       "           0.64865,     0.64965,     0.65065,     0.65165,     0.65265,     0.65365,     0.65465,     0.65566,     0.65666,     0.65766,     0.65866,     0.65966,     0.66066,     0.66166,     0.66266,     0.66366,     0.66466,     0.66567,     0.66667,     0.66767,     0.66867,     0.66967,     0.67067,     0.67167,\n",
       "           0.67267,     0.67367,     0.67467,     0.67568,     0.67668,     0.67768,     0.67868,     0.67968,     0.68068,     0.68168,     0.68268,     0.68368,     0.68468,     0.68569,     0.68669,     0.68769,     0.68869,     0.68969,     0.69069,     0.69169,     0.69269,     0.69369,     0.69469,      0.6957,\n",
       "            0.6967,      0.6977,      0.6987,      0.6997,      0.7007,      0.7017,      0.7027,      0.7037,      0.7047,     0.70571,     0.70671,     0.70771,     0.70871,     0.70971,     0.71071,     0.71171,     0.71271,     0.71371,     0.71471,     0.71572,     0.71672,     0.71772,     0.71872,     0.71972,\n",
       "           0.72072,     0.72172,     0.72272,     0.72372,     0.72472,     0.72573,     0.72673,     0.72773,     0.72873,     0.72973,     0.73073,     0.73173,     0.73273,     0.73373,     0.73473,     0.73574,     0.73674,     0.73774,     0.73874,     0.73974,     0.74074,     0.74174,     0.74274,     0.74374,\n",
       "           0.74474,     0.74575,     0.74675,     0.74775,     0.74875,     0.74975,     0.75075,     0.75175,     0.75275,     0.75375,     0.75475,     0.75576,     0.75676,     0.75776,     0.75876,     0.75976,     0.76076,     0.76176,     0.76276,     0.76376,     0.76476,     0.76577,     0.76677,     0.76777,\n",
       "           0.76877,     0.76977,     0.77077,     0.77177,     0.77277,     0.77377,     0.77477,     0.77578,     0.77678,     0.77778,     0.77878,     0.77978,     0.78078,     0.78178,     0.78278,     0.78378,     0.78478,     0.78579,     0.78679,     0.78779,     0.78879,     0.78979,     0.79079,     0.79179,\n",
       "           0.79279,     0.79379,     0.79479,      0.7958,      0.7968,      0.7978,      0.7988,      0.7998,      0.8008,      0.8018,      0.8028,      0.8038,      0.8048,     0.80581,     0.80681,     0.80781,     0.80881,     0.80981,     0.81081,     0.81181,     0.81281,     0.81381,     0.81481,     0.81582,\n",
       "           0.81682,     0.81782,     0.81882,     0.81982,     0.82082,     0.82182,     0.82282,     0.82382,     0.82482,     0.82583,     0.82683,     0.82783,     0.82883,     0.82983,     0.83083,     0.83183,     0.83283,     0.83383,     0.83483,     0.83584,     0.83684,     0.83784,     0.83884,     0.83984,\n",
       "           0.84084,     0.84184,     0.84284,     0.84384,     0.84484,     0.84585,     0.84685,     0.84785,     0.84885,     0.84985,     0.85085,     0.85185,     0.85285,     0.85385,     0.85485,     0.85586,     0.85686,     0.85786,     0.85886,     0.85986,     0.86086,     0.86186,     0.86286,     0.86386,\n",
       "           0.86486,     0.86587,     0.86687,     0.86787,     0.86887,     0.86987,     0.87087,     0.87187,     0.87287,     0.87387,     0.87487,     0.87588,     0.87688,     0.87788,     0.87888,     0.87988,     0.88088,     0.88188,     0.88288,     0.88388,     0.88488,     0.88589,     0.88689,     0.88789,\n",
       "           0.88889,     0.88989,     0.89089,     0.89189,     0.89289,     0.89389,     0.89489,      0.8959,      0.8969,      0.8979,      0.8989,      0.8999,      0.9009,      0.9019,      0.9029,      0.9039,      0.9049,     0.90591,     0.90691,     0.90791,     0.90891,     0.90991,     0.91091,     0.91191,\n",
       "           0.91291,     0.91391,     0.91491,     0.91592,     0.91692,     0.91792,     0.91892,     0.91992,     0.92092,     0.92192,     0.92292,     0.92392,     0.92492,     0.92593,     0.92693,     0.92793,     0.92893,     0.92993,     0.93093,     0.93193,     0.93293,     0.93393,     0.93493,     0.93594,\n",
       "           0.93694,     0.93794,     0.93894,     0.93994,     0.94094,     0.94194,     0.94294,     0.94394,     0.94494,     0.94595,     0.94695,     0.94795,     0.94895,     0.94995,     0.95095,     0.95195,     0.95295,     0.95395,     0.95495,     0.95596,     0.95696,     0.95796,     0.95896,     0.95996,\n",
       "           0.96096,     0.96196,     0.96296,     0.96396,     0.96496,     0.96597,     0.96697,     0.96797,     0.96897,     0.96997,     0.97097,     0.97197,     0.97297,     0.97397,     0.97497,     0.97598,     0.97698,     0.97798,     0.97898,     0.97998,     0.98098,     0.98198,     0.98298,     0.98398,\n",
       "           0.98498,     0.98599,     0.98699,     0.98799,     0.98899,     0.98999,     0.99099,     0.99199,     0.99299,     0.99399,     0.99499,       0.996,       0.997,       0.998,       0.999,           1]), array([[     0.1746,      0.1746,     0.24306, ...,           0,           0,           0],\n",
       "       [      0.329,       0.329,      0.4536, ...,           0,           0,           0],\n",
       "       [    0.75876,     0.75876,     0.80585, ...,           0,           0,           0],\n",
       "       [    0.36025,     0.36025,     0.44499, ...,           0,           0,           0]]), 'Confidence', 'F1'], [array([          0,    0.001001,    0.002002,    0.003003,    0.004004,    0.005005,    0.006006,    0.007007,    0.008008,    0.009009,     0.01001,    0.011011,    0.012012,    0.013013,    0.014014,    0.015015,    0.016016,    0.017017,    0.018018,    0.019019,     0.02002,    0.021021,    0.022022,    0.023023,\n",
       "          0.024024,    0.025025,    0.026026,    0.027027,    0.028028,    0.029029,     0.03003,    0.031031,    0.032032,    0.033033,    0.034034,    0.035035,    0.036036,    0.037037,    0.038038,    0.039039,     0.04004,    0.041041,    0.042042,    0.043043,    0.044044,    0.045045,    0.046046,    0.047047,\n",
       "          0.048048,    0.049049,     0.05005,    0.051051,    0.052052,    0.053053,    0.054054,    0.055055,    0.056056,    0.057057,    0.058058,    0.059059,     0.06006,    0.061061,    0.062062,    0.063063,    0.064064,    0.065065,    0.066066,    0.067067,    0.068068,    0.069069,     0.07007,    0.071071,\n",
       "          0.072072,    0.073073,    0.074074,    0.075075,    0.076076,    0.077077,    0.078078,    0.079079,     0.08008,    0.081081,    0.082082,    0.083083,    0.084084,    0.085085,    0.086086,    0.087087,    0.088088,    0.089089,     0.09009,    0.091091,    0.092092,    0.093093,    0.094094,    0.095095,\n",
       "          0.096096,    0.097097,    0.098098,    0.099099,      0.1001,      0.1011,      0.1021,      0.1031,      0.1041,     0.10511,     0.10611,     0.10711,     0.10811,     0.10911,     0.11011,     0.11111,     0.11211,     0.11311,     0.11411,     0.11512,     0.11612,     0.11712,     0.11812,     0.11912,\n",
       "           0.12012,     0.12112,     0.12212,     0.12312,     0.12412,     0.12513,     0.12613,     0.12713,     0.12813,     0.12913,     0.13013,     0.13113,     0.13213,     0.13313,     0.13413,     0.13514,     0.13614,     0.13714,     0.13814,     0.13914,     0.14014,     0.14114,     0.14214,     0.14314,\n",
       "           0.14414,     0.14515,     0.14615,     0.14715,     0.14815,     0.14915,     0.15015,     0.15115,     0.15215,     0.15315,     0.15415,     0.15516,     0.15616,     0.15716,     0.15816,     0.15916,     0.16016,     0.16116,     0.16216,     0.16316,     0.16416,     0.16517,     0.16617,     0.16717,\n",
       "           0.16817,     0.16917,     0.17017,     0.17117,     0.17217,     0.17317,     0.17417,     0.17518,     0.17618,     0.17718,     0.17818,     0.17918,     0.18018,     0.18118,     0.18218,     0.18318,     0.18418,     0.18519,     0.18619,     0.18719,     0.18819,     0.18919,     0.19019,     0.19119,\n",
       "           0.19219,     0.19319,     0.19419,      0.1952,      0.1962,      0.1972,      0.1982,      0.1992,      0.2002,      0.2012,      0.2022,      0.2032,      0.2042,     0.20521,     0.20621,     0.20721,     0.20821,     0.20921,     0.21021,     0.21121,     0.21221,     0.21321,     0.21421,     0.21522,\n",
       "           0.21622,     0.21722,     0.21822,     0.21922,     0.22022,     0.22122,     0.22222,     0.22322,     0.22422,     0.22523,     0.22623,     0.22723,     0.22823,     0.22923,     0.23023,     0.23123,     0.23223,     0.23323,     0.23423,     0.23524,     0.23624,     0.23724,     0.23824,     0.23924,\n",
       "           0.24024,     0.24124,     0.24224,     0.24324,     0.24424,     0.24525,     0.24625,     0.24725,     0.24825,     0.24925,     0.25025,     0.25125,     0.25225,     0.25325,     0.25425,     0.25526,     0.25626,     0.25726,     0.25826,     0.25926,     0.26026,     0.26126,     0.26226,     0.26326,\n",
       "           0.26426,     0.26527,     0.26627,     0.26727,     0.26827,     0.26927,     0.27027,     0.27127,     0.27227,     0.27327,     0.27427,     0.27528,     0.27628,     0.27728,     0.27828,     0.27928,     0.28028,     0.28128,     0.28228,     0.28328,     0.28428,     0.28529,     0.28629,     0.28729,\n",
       "           0.28829,     0.28929,     0.29029,     0.29129,     0.29229,     0.29329,     0.29429,      0.2953,      0.2963,      0.2973,      0.2983,      0.2993,      0.3003,      0.3013,      0.3023,      0.3033,      0.3043,     0.30531,     0.30631,     0.30731,     0.30831,     0.30931,     0.31031,     0.31131,\n",
       "           0.31231,     0.31331,     0.31431,     0.31532,     0.31632,     0.31732,     0.31832,     0.31932,     0.32032,     0.32132,     0.32232,     0.32332,     0.32432,     0.32533,     0.32633,     0.32733,     0.32833,     0.32933,     0.33033,     0.33133,     0.33233,     0.33333,     0.33433,     0.33534,\n",
       "           0.33634,     0.33734,     0.33834,     0.33934,     0.34034,     0.34134,     0.34234,     0.34334,     0.34434,     0.34535,     0.34635,     0.34735,     0.34835,     0.34935,     0.35035,     0.35135,     0.35235,     0.35335,     0.35435,     0.35536,     0.35636,     0.35736,     0.35836,     0.35936,\n",
       "           0.36036,     0.36136,     0.36236,     0.36336,     0.36436,     0.36537,     0.36637,     0.36737,     0.36837,     0.36937,     0.37037,     0.37137,     0.37237,     0.37337,     0.37437,     0.37538,     0.37638,     0.37738,     0.37838,     0.37938,     0.38038,     0.38138,     0.38238,     0.38338,\n",
       "           0.38438,     0.38539,     0.38639,     0.38739,     0.38839,     0.38939,     0.39039,     0.39139,     0.39239,     0.39339,     0.39439,      0.3954,      0.3964,      0.3974,      0.3984,      0.3994,      0.4004,      0.4014,      0.4024,      0.4034,      0.4044,     0.40541,     0.40641,     0.40741,\n",
       "           0.40841,     0.40941,     0.41041,     0.41141,     0.41241,     0.41341,     0.41441,     0.41542,     0.41642,     0.41742,     0.41842,     0.41942,     0.42042,     0.42142,     0.42242,     0.42342,     0.42442,     0.42543,     0.42643,     0.42743,     0.42843,     0.42943,     0.43043,     0.43143,\n",
       "           0.43243,     0.43343,     0.43443,     0.43544,     0.43644,     0.43744,     0.43844,     0.43944,     0.44044,     0.44144,     0.44244,     0.44344,     0.44444,     0.44545,     0.44645,     0.44745,     0.44845,     0.44945,     0.45045,     0.45145,     0.45245,     0.45345,     0.45445,     0.45546,\n",
       "           0.45646,     0.45746,     0.45846,     0.45946,     0.46046,     0.46146,     0.46246,     0.46346,     0.46446,     0.46547,     0.46647,     0.46747,     0.46847,     0.46947,     0.47047,     0.47147,     0.47247,     0.47347,     0.47447,     0.47548,     0.47648,     0.47748,     0.47848,     0.47948,\n",
       "           0.48048,     0.48148,     0.48248,     0.48348,     0.48448,     0.48549,     0.48649,     0.48749,     0.48849,     0.48949,     0.49049,     0.49149,     0.49249,     0.49349,     0.49449,      0.4955,      0.4965,      0.4975,      0.4985,      0.4995,      0.5005,      0.5015,      0.5025,      0.5035,\n",
       "            0.5045,     0.50551,     0.50651,     0.50751,     0.50851,     0.50951,     0.51051,     0.51151,     0.51251,     0.51351,     0.51451,     0.51552,     0.51652,     0.51752,     0.51852,     0.51952,     0.52052,     0.52152,     0.52252,     0.52352,     0.52452,     0.52553,     0.52653,     0.52753,\n",
       "           0.52853,     0.52953,     0.53053,     0.53153,     0.53253,     0.53353,     0.53453,     0.53554,     0.53654,     0.53754,     0.53854,     0.53954,     0.54054,     0.54154,     0.54254,     0.54354,     0.54454,     0.54555,     0.54655,     0.54755,     0.54855,     0.54955,     0.55055,     0.55155,\n",
       "           0.55255,     0.55355,     0.55455,     0.55556,     0.55656,     0.55756,     0.55856,     0.55956,     0.56056,     0.56156,     0.56256,     0.56356,     0.56456,     0.56557,     0.56657,     0.56757,     0.56857,     0.56957,     0.57057,     0.57157,     0.57257,     0.57357,     0.57457,     0.57558,\n",
       "           0.57658,     0.57758,     0.57858,     0.57958,     0.58058,     0.58158,     0.58258,     0.58358,     0.58458,     0.58559,     0.58659,     0.58759,     0.58859,     0.58959,     0.59059,     0.59159,     0.59259,     0.59359,     0.59459,      0.5956,      0.5966,      0.5976,      0.5986,      0.5996,\n",
       "            0.6006,      0.6016,      0.6026,      0.6036,      0.6046,     0.60561,     0.60661,     0.60761,     0.60861,     0.60961,     0.61061,     0.61161,     0.61261,     0.61361,     0.61461,     0.61562,     0.61662,     0.61762,     0.61862,     0.61962,     0.62062,     0.62162,     0.62262,     0.62362,\n",
       "           0.62462,     0.62563,     0.62663,     0.62763,     0.62863,     0.62963,     0.63063,     0.63163,     0.63263,     0.63363,     0.63463,     0.63564,     0.63664,     0.63764,     0.63864,     0.63964,     0.64064,     0.64164,     0.64264,     0.64364,     0.64464,     0.64565,     0.64665,     0.64765,\n",
       "           0.64865,     0.64965,     0.65065,     0.65165,     0.65265,     0.65365,     0.65465,     0.65566,     0.65666,     0.65766,     0.65866,     0.65966,     0.66066,     0.66166,     0.66266,     0.66366,     0.66466,     0.66567,     0.66667,     0.66767,     0.66867,     0.66967,     0.67067,     0.67167,\n",
       "           0.67267,     0.67367,     0.67467,     0.67568,     0.67668,     0.67768,     0.67868,     0.67968,     0.68068,     0.68168,     0.68268,     0.68368,     0.68468,     0.68569,     0.68669,     0.68769,     0.68869,     0.68969,     0.69069,     0.69169,     0.69269,     0.69369,     0.69469,      0.6957,\n",
       "            0.6967,      0.6977,      0.6987,      0.6997,      0.7007,      0.7017,      0.7027,      0.7037,      0.7047,     0.70571,     0.70671,     0.70771,     0.70871,     0.70971,     0.71071,     0.71171,     0.71271,     0.71371,     0.71471,     0.71572,     0.71672,     0.71772,     0.71872,     0.71972,\n",
       "           0.72072,     0.72172,     0.72272,     0.72372,     0.72472,     0.72573,     0.72673,     0.72773,     0.72873,     0.72973,     0.73073,     0.73173,     0.73273,     0.73373,     0.73473,     0.73574,     0.73674,     0.73774,     0.73874,     0.73974,     0.74074,     0.74174,     0.74274,     0.74374,\n",
       "           0.74474,     0.74575,     0.74675,     0.74775,     0.74875,     0.74975,     0.75075,     0.75175,     0.75275,     0.75375,     0.75475,     0.75576,     0.75676,     0.75776,     0.75876,     0.75976,     0.76076,     0.76176,     0.76276,     0.76376,     0.76476,     0.76577,     0.76677,     0.76777,\n",
       "           0.76877,     0.76977,     0.77077,     0.77177,     0.77277,     0.77377,     0.77477,     0.77578,     0.77678,     0.77778,     0.77878,     0.77978,     0.78078,     0.78178,     0.78278,     0.78378,     0.78478,     0.78579,     0.78679,     0.78779,     0.78879,     0.78979,     0.79079,     0.79179,\n",
       "           0.79279,     0.79379,     0.79479,      0.7958,      0.7968,      0.7978,      0.7988,      0.7998,      0.8008,      0.8018,      0.8028,      0.8038,      0.8048,     0.80581,     0.80681,     0.80781,     0.80881,     0.80981,     0.81081,     0.81181,     0.81281,     0.81381,     0.81481,     0.81582,\n",
       "           0.81682,     0.81782,     0.81882,     0.81982,     0.82082,     0.82182,     0.82282,     0.82382,     0.82482,     0.82583,     0.82683,     0.82783,     0.82883,     0.82983,     0.83083,     0.83183,     0.83283,     0.83383,     0.83483,     0.83584,     0.83684,     0.83784,     0.83884,     0.83984,\n",
       "           0.84084,     0.84184,     0.84284,     0.84384,     0.84484,     0.84585,     0.84685,     0.84785,     0.84885,     0.84985,     0.85085,     0.85185,     0.85285,     0.85385,     0.85485,     0.85586,     0.85686,     0.85786,     0.85886,     0.85986,     0.86086,     0.86186,     0.86286,     0.86386,\n",
       "           0.86486,     0.86587,     0.86687,     0.86787,     0.86887,     0.86987,     0.87087,     0.87187,     0.87287,     0.87387,     0.87487,     0.87588,     0.87688,     0.87788,     0.87888,     0.87988,     0.88088,     0.88188,     0.88288,     0.88388,     0.88488,     0.88589,     0.88689,     0.88789,\n",
       "           0.88889,     0.88989,     0.89089,     0.89189,     0.89289,     0.89389,     0.89489,      0.8959,      0.8969,      0.8979,      0.8989,      0.8999,      0.9009,      0.9019,      0.9029,      0.9039,      0.9049,     0.90591,     0.90691,     0.90791,     0.90891,     0.90991,     0.91091,     0.91191,\n",
       "           0.91291,     0.91391,     0.91491,     0.91592,     0.91692,     0.91792,     0.91892,     0.91992,     0.92092,     0.92192,     0.92292,     0.92392,     0.92492,     0.92593,     0.92693,     0.92793,     0.92893,     0.92993,     0.93093,     0.93193,     0.93293,     0.93393,     0.93493,     0.93594,\n",
       "           0.93694,     0.93794,     0.93894,     0.93994,     0.94094,     0.94194,     0.94294,     0.94394,     0.94494,     0.94595,     0.94695,     0.94795,     0.94895,     0.94995,     0.95095,     0.95195,     0.95295,     0.95395,     0.95495,     0.95596,     0.95696,     0.95796,     0.95896,     0.95996,\n",
       "           0.96096,     0.96196,     0.96296,     0.96396,     0.96496,     0.96597,     0.96697,     0.96797,     0.96897,     0.96997,     0.97097,     0.97197,     0.97297,     0.97397,     0.97497,     0.97598,     0.97698,     0.97798,     0.97898,     0.97998,     0.98098,     0.98198,     0.98298,     0.98398,\n",
       "           0.98498,     0.98599,     0.98699,     0.98799,     0.98899,     0.98999,     0.99099,     0.99199,     0.99299,     0.99399,     0.99499,       0.996,       0.997,       0.998,       0.999,           1]), array([[    0.10628,     0.10628,     0.16174, ...,           1,           1,           1],\n",
       "       [    0.19792,     0.19792,     0.29561, ...,           1,           1,           1],\n",
       "       [     0.6148,      0.6148,      0.6796, ...,           1,           1,           1],\n",
       "       [    0.22011,     0.22011,     0.28687, ...,           1,           1,           1]]), 'Confidence', 'Precision'], [array([          0,    0.001001,    0.002002,    0.003003,    0.004004,    0.005005,    0.006006,    0.007007,    0.008008,    0.009009,     0.01001,    0.011011,    0.012012,    0.013013,    0.014014,    0.015015,    0.016016,    0.017017,    0.018018,    0.019019,     0.02002,    0.021021,    0.022022,    0.023023,\n",
       "          0.024024,    0.025025,    0.026026,    0.027027,    0.028028,    0.029029,     0.03003,    0.031031,    0.032032,    0.033033,    0.034034,    0.035035,    0.036036,    0.037037,    0.038038,    0.039039,     0.04004,    0.041041,    0.042042,    0.043043,    0.044044,    0.045045,    0.046046,    0.047047,\n",
       "          0.048048,    0.049049,     0.05005,    0.051051,    0.052052,    0.053053,    0.054054,    0.055055,    0.056056,    0.057057,    0.058058,    0.059059,     0.06006,    0.061061,    0.062062,    0.063063,    0.064064,    0.065065,    0.066066,    0.067067,    0.068068,    0.069069,     0.07007,    0.071071,\n",
       "          0.072072,    0.073073,    0.074074,    0.075075,    0.076076,    0.077077,    0.078078,    0.079079,     0.08008,    0.081081,    0.082082,    0.083083,    0.084084,    0.085085,    0.086086,    0.087087,    0.088088,    0.089089,     0.09009,    0.091091,    0.092092,    0.093093,    0.094094,    0.095095,\n",
       "          0.096096,    0.097097,    0.098098,    0.099099,      0.1001,      0.1011,      0.1021,      0.1031,      0.1041,     0.10511,     0.10611,     0.10711,     0.10811,     0.10911,     0.11011,     0.11111,     0.11211,     0.11311,     0.11411,     0.11512,     0.11612,     0.11712,     0.11812,     0.11912,\n",
       "           0.12012,     0.12112,     0.12212,     0.12312,     0.12412,     0.12513,     0.12613,     0.12713,     0.12813,     0.12913,     0.13013,     0.13113,     0.13213,     0.13313,     0.13413,     0.13514,     0.13614,     0.13714,     0.13814,     0.13914,     0.14014,     0.14114,     0.14214,     0.14314,\n",
       "           0.14414,     0.14515,     0.14615,     0.14715,     0.14815,     0.14915,     0.15015,     0.15115,     0.15215,     0.15315,     0.15415,     0.15516,     0.15616,     0.15716,     0.15816,     0.15916,     0.16016,     0.16116,     0.16216,     0.16316,     0.16416,     0.16517,     0.16617,     0.16717,\n",
       "           0.16817,     0.16917,     0.17017,     0.17117,     0.17217,     0.17317,     0.17417,     0.17518,     0.17618,     0.17718,     0.17818,     0.17918,     0.18018,     0.18118,     0.18218,     0.18318,     0.18418,     0.18519,     0.18619,     0.18719,     0.18819,     0.18919,     0.19019,     0.19119,\n",
       "           0.19219,     0.19319,     0.19419,      0.1952,      0.1962,      0.1972,      0.1982,      0.1992,      0.2002,      0.2012,      0.2022,      0.2032,      0.2042,     0.20521,     0.20621,     0.20721,     0.20821,     0.20921,     0.21021,     0.21121,     0.21221,     0.21321,     0.21421,     0.21522,\n",
       "           0.21622,     0.21722,     0.21822,     0.21922,     0.22022,     0.22122,     0.22222,     0.22322,     0.22422,     0.22523,     0.22623,     0.22723,     0.22823,     0.22923,     0.23023,     0.23123,     0.23223,     0.23323,     0.23423,     0.23524,     0.23624,     0.23724,     0.23824,     0.23924,\n",
       "           0.24024,     0.24124,     0.24224,     0.24324,     0.24424,     0.24525,     0.24625,     0.24725,     0.24825,     0.24925,     0.25025,     0.25125,     0.25225,     0.25325,     0.25425,     0.25526,     0.25626,     0.25726,     0.25826,     0.25926,     0.26026,     0.26126,     0.26226,     0.26326,\n",
       "           0.26426,     0.26527,     0.26627,     0.26727,     0.26827,     0.26927,     0.27027,     0.27127,     0.27227,     0.27327,     0.27427,     0.27528,     0.27628,     0.27728,     0.27828,     0.27928,     0.28028,     0.28128,     0.28228,     0.28328,     0.28428,     0.28529,     0.28629,     0.28729,\n",
       "           0.28829,     0.28929,     0.29029,     0.29129,     0.29229,     0.29329,     0.29429,      0.2953,      0.2963,      0.2973,      0.2983,      0.2993,      0.3003,      0.3013,      0.3023,      0.3033,      0.3043,     0.30531,     0.30631,     0.30731,     0.30831,     0.30931,     0.31031,     0.31131,\n",
       "           0.31231,     0.31331,     0.31431,     0.31532,     0.31632,     0.31732,     0.31832,     0.31932,     0.32032,     0.32132,     0.32232,     0.32332,     0.32432,     0.32533,     0.32633,     0.32733,     0.32833,     0.32933,     0.33033,     0.33133,     0.33233,     0.33333,     0.33433,     0.33534,\n",
       "           0.33634,     0.33734,     0.33834,     0.33934,     0.34034,     0.34134,     0.34234,     0.34334,     0.34434,     0.34535,     0.34635,     0.34735,     0.34835,     0.34935,     0.35035,     0.35135,     0.35235,     0.35335,     0.35435,     0.35536,     0.35636,     0.35736,     0.35836,     0.35936,\n",
       "           0.36036,     0.36136,     0.36236,     0.36336,     0.36436,     0.36537,     0.36637,     0.36737,     0.36837,     0.36937,     0.37037,     0.37137,     0.37237,     0.37337,     0.37437,     0.37538,     0.37638,     0.37738,     0.37838,     0.37938,     0.38038,     0.38138,     0.38238,     0.38338,\n",
       "           0.38438,     0.38539,     0.38639,     0.38739,     0.38839,     0.38939,     0.39039,     0.39139,     0.39239,     0.39339,     0.39439,      0.3954,      0.3964,      0.3974,      0.3984,      0.3994,      0.4004,      0.4014,      0.4024,      0.4034,      0.4044,     0.40541,     0.40641,     0.40741,\n",
       "           0.40841,     0.40941,     0.41041,     0.41141,     0.41241,     0.41341,     0.41441,     0.41542,     0.41642,     0.41742,     0.41842,     0.41942,     0.42042,     0.42142,     0.42242,     0.42342,     0.42442,     0.42543,     0.42643,     0.42743,     0.42843,     0.42943,     0.43043,     0.43143,\n",
       "           0.43243,     0.43343,     0.43443,     0.43544,     0.43644,     0.43744,     0.43844,     0.43944,     0.44044,     0.44144,     0.44244,     0.44344,     0.44444,     0.44545,     0.44645,     0.44745,     0.44845,     0.44945,     0.45045,     0.45145,     0.45245,     0.45345,     0.45445,     0.45546,\n",
       "           0.45646,     0.45746,     0.45846,     0.45946,     0.46046,     0.46146,     0.46246,     0.46346,     0.46446,     0.46547,     0.46647,     0.46747,     0.46847,     0.46947,     0.47047,     0.47147,     0.47247,     0.47347,     0.47447,     0.47548,     0.47648,     0.47748,     0.47848,     0.47948,\n",
       "           0.48048,     0.48148,     0.48248,     0.48348,     0.48448,     0.48549,     0.48649,     0.48749,     0.48849,     0.48949,     0.49049,     0.49149,     0.49249,     0.49349,     0.49449,      0.4955,      0.4965,      0.4975,      0.4985,      0.4995,      0.5005,      0.5015,      0.5025,      0.5035,\n",
       "            0.5045,     0.50551,     0.50651,     0.50751,     0.50851,     0.50951,     0.51051,     0.51151,     0.51251,     0.51351,     0.51451,     0.51552,     0.51652,     0.51752,     0.51852,     0.51952,     0.52052,     0.52152,     0.52252,     0.52352,     0.52452,     0.52553,     0.52653,     0.52753,\n",
       "           0.52853,     0.52953,     0.53053,     0.53153,     0.53253,     0.53353,     0.53453,     0.53554,     0.53654,     0.53754,     0.53854,     0.53954,     0.54054,     0.54154,     0.54254,     0.54354,     0.54454,     0.54555,     0.54655,     0.54755,     0.54855,     0.54955,     0.55055,     0.55155,\n",
       "           0.55255,     0.55355,     0.55455,     0.55556,     0.55656,     0.55756,     0.55856,     0.55956,     0.56056,     0.56156,     0.56256,     0.56356,     0.56456,     0.56557,     0.56657,     0.56757,     0.56857,     0.56957,     0.57057,     0.57157,     0.57257,     0.57357,     0.57457,     0.57558,\n",
       "           0.57658,     0.57758,     0.57858,     0.57958,     0.58058,     0.58158,     0.58258,     0.58358,     0.58458,     0.58559,     0.58659,     0.58759,     0.58859,     0.58959,     0.59059,     0.59159,     0.59259,     0.59359,     0.59459,      0.5956,      0.5966,      0.5976,      0.5986,      0.5996,\n",
       "            0.6006,      0.6016,      0.6026,      0.6036,      0.6046,     0.60561,     0.60661,     0.60761,     0.60861,     0.60961,     0.61061,     0.61161,     0.61261,     0.61361,     0.61461,     0.61562,     0.61662,     0.61762,     0.61862,     0.61962,     0.62062,     0.62162,     0.62262,     0.62362,\n",
       "           0.62462,     0.62563,     0.62663,     0.62763,     0.62863,     0.62963,     0.63063,     0.63163,     0.63263,     0.63363,     0.63463,     0.63564,     0.63664,     0.63764,     0.63864,     0.63964,     0.64064,     0.64164,     0.64264,     0.64364,     0.64464,     0.64565,     0.64665,     0.64765,\n",
       "           0.64865,     0.64965,     0.65065,     0.65165,     0.65265,     0.65365,     0.65465,     0.65566,     0.65666,     0.65766,     0.65866,     0.65966,     0.66066,     0.66166,     0.66266,     0.66366,     0.66466,     0.66567,     0.66667,     0.66767,     0.66867,     0.66967,     0.67067,     0.67167,\n",
       "           0.67267,     0.67367,     0.67467,     0.67568,     0.67668,     0.67768,     0.67868,     0.67968,     0.68068,     0.68168,     0.68268,     0.68368,     0.68468,     0.68569,     0.68669,     0.68769,     0.68869,     0.68969,     0.69069,     0.69169,     0.69269,     0.69369,     0.69469,      0.6957,\n",
       "            0.6967,      0.6977,      0.6987,      0.6997,      0.7007,      0.7017,      0.7027,      0.7037,      0.7047,     0.70571,     0.70671,     0.70771,     0.70871,     0.70971,     0.71071,     0.71171,     0.71271,     0.71371,     0.71471,     0.71572,     0.71672,     0.71772,     0.71872,     0.71972,\n",
       "           0.72072,     0.72172,     0.72272,     0.72372,     0.72472,     0.72573,     0.72673,     0.72773,     0.72873,     0.72973,     0.73073,     0.73173,     0.73273,     0.73373,     0.73473,     0.73574,     0.73674,     0.73774,     0.73874,     0.73974,     0.74074,     0.74174,     0.74274,     0.74374,\n",
       "           0.74474,     0.74575,     0.74675,     0.74775,     0.74875,     0.74975,     0.75075,     0.75175,     0.75275,     0.75375,     0.75475,     0.75576,     0.75676,     0.75776,     0.75876,     0.75976,     0.76076,     0.76176,     0.76276,     0.76376,     0.76476,     0.76577,     0.76677,     0.76777,\n",
       "           0.76877,     0.76977,     0.77077,     0.77177,     0.77277,     0.77377,     0.77477,     0.77578,     0.77678,     0.77778,     0.77878,     0.77978,     0.78078,     0.78178,     0.78278,     0.78378,     0.78478,     0.78579,     0.78679,     0.78779,     0.78879,     0.78979,     0.79079,     0.79179,\n",
       "           0.79279,     0.79379,     0.79479,      0.7958,      0.7968,      0.7978,      0.7988,      0.7998,      0.8008,      0.8018,      0.8028,      0.8038,      0.8048,     0.80581,     0.80681,     0.80781,     0.80881,     0.80981,     0.81081,     0.81181,     0.81281,     0.81381,     0.81481,     0.81582,\n",
       "           0.81682,     0.81782,     0.81882,     0.81982,     0.82082,     0.82182,     0.82282,     0.82382,     0.82482,     0.82583,     0.82683,     0.82783,     0.82883,     0.82983,     0.83083,     0.83183,     0.83283,     0.83383,     0.83483,     0.83584,     0.83684,     0.83784,     0.83884,     0.83984,\n",
       "           0.84084,     0.84184,     0.84284,     0.84384,     0.84484,     0.84585,     0.84685,     0.84785,     0.84885,     0.84985,     0.85085,     0.85185,     0.85285,     0.85385,     0.85485,     0.85586,     0.85686,     0.85786,     0.85886,     0.85986,     0.86086,     0.86186,     0.86286,     0.86386,\n",
       "           0.86486,     0.86587,     0.86687,     0.86787,     0.86887,     0.86987,     0.87087,     0.87187,     0.87287,     0.87387,     0.87487,     0.87588,     0.87688,     0.87788,     0.87888,     0.87988,     0.88088,     0.88188,     0.88288,     0.88388,     0.88488,     0.88589,     0.88689,     0.88789,\n",
       "           0.88889,     0.88989,     0.89089,     0.89189,     0.89289,     0.89389,     0.89489,      0.8959,      0.8969,      0.8979,      0.8989,      0.8999,      0.9009,      0.9019,      0.9029,      0.9039,      0.9049,     0.90591,     0.90691,     0.90791,     0.90891,     0.90991,     0.91091,     0.91191,\n",
       "           0.91291,     0.91391,     0.91491,     0.91592,     0.91692,     0.91792,     0.91892,     0.91992,     0.92092,     0.92192,     0.92292,     0.92392,     0.92492,     0.92593,     0.92693,     0.92793,     0.92893,     0.92993,     0.93093,     0.93193,     0.93293,     0.93393,     0.93493,     0.93594,\n",
       "           0.93694,     0.93794,     0.93894,     0.93994,     0.94094,     0.94194,     0.94294,     0.94394,     0.94494,     0.94595,     0.94695,     0.94795,     0.94895,     0.94995,     0.95095,     0.95195,     0.95295,     0.95395,     0.95495,     0.95596,     0.95696,     0.95796,     0.95896,     0.95996,\n",
       "           0.96096,     0.96196,     0.96296,     0.96396,     0.96496,     0.96597,     0.96697,     0.96797,     0.96897,     0.96997,     0.97097,     0.97197,     0.97297,     0.97397,     0.97497,     0.97598,     0.97698,     0.97798,     0.97898,     0.97998,     0.98098,     0.98198,     0.98298,     0.98398,\n",
       "           0.98498,     0.98599,     0.98699,     0.98799,     0.98899,     0.98999,     0.99099,     0.99199,     0.99299,     0.99399,     0.99499,       0.996,       0.997,       0.998,       0.999,           1]), array([[    0.48889,     0.48889,     0.48889, ...,           0,           0,           0],\n",
       "       [    0.97436,     0.97436,     0.97436, ...,           0,           0,           0],\n",
       "       [    0.99075,     0.99075,     0.98972, ...,           0,           0,           0],\n",
       "       [    0.99145,     0.99145,     0.99145, ...,           0,           0,           0]]), 'Confidence', 'Recall']]\n",
       "fitness: 0.6013394684460841\n",
       "keys: ['metrics/precision(B)', 'metrics/recall(B)', 'metrics/mAP50(B)', 'metrics/mAP50-95(B)']\n",
       "maps: array([     0.1665,     0.69452,     0.80587,     0.64088])\n",
       "names: {0: 'ball', 1: 'goalkeeper', 2: 'player', 3: 'referee'}\n",
       "plot: True\n",
       "results_dict: {'metrics/precision(B)': 0.9030465268118442, 'metrics/recall(B)': 0.7839965390325102, 'metrics/mAP50(B)': 0.8209045418654926, 'metrics/mAP50-95(B)': 0.576943349177261, 'fitness': 0.6013394684460841}\n",
       "save_dir: PosixPath('runs/detect/train2')\n",
       "speed: {'preprocess': 3.282401026511679, 'inference': 16.246260428915217, 'loss': 0.00048170284349091197, 'postprocess': 1.5223026275634766}\n",
       "task: 'detect'"
      ]
     },
     "execution_count": 2,
     "metadata": {},
     "output_type": "execute_result"
    }
   ],
   "source": [
    "# Football_Players_Detection_Dataset has been downloaded from  https://universe.roboflow.com/\n",
    "# download it and put it in datasets folder\n",
    "model.train(data=f'{Home}/datasets/Football_Players_Detection_Dataset/data.yaml',  epochs = 50, imgsz=640, lr0 = 1e-3, device = 0, batch = 8, workers= 0)"
   ]
  },
  {
   "cell_type": "markdown",
   "metadata": {},
   "source": [
    "# Test the performance of the fine-tuned YOLOm 11 model"
   ]
  },
  {
   "cell_type": "code",
   "execution_count": null,
   "metadata": {},
   "outputs": [],
   "source": [
    "#!yolo task=detect  mode=predict model=runs/detect/train/weights/best.pt conf=0.7 source=datasets/Football_Players_Detection_Dataset/test/images save=True\n",
    "trained_model = YOLO(f'{Home}/runs/detect/train/weights/best.pt')\n",
    "trained_model.predict(source= f'{Home}/datasets/Football_Players_Detection_Dataset/test/images', conf=0.7, save= True, classes = [1,2])"
   ]
  },
  {
   "cell_type": "markdown",
   "metadata": {},
   "source": [
    "# Test the performance of the fine-tuned model on a video"
   ]
  },
  {
   "cell_type": "code",
   "execution_count": null,
   "metadata": {},
   "outputs": [],
   "source": [
    "def detection(model, image, confidence: int = 0.7, allowed_classes : list = [1,2]):\n",
    "    \"\"\"\n",
    "    Performs object detection on an input image using a YOLO model, with specified confidence threshold\n",
    "    and class filtering.\n",
    "    Args:\n",
    "        model: The YOLO model object used for prediction, loaded with ultralytics.\n",
    "        image: The input image for object detection, which can be a file path, URL, or image array.\n",
    "        confidence (float): Confidence threshold for detections, with a default of 0.7. Only detections \n",
    "                            with confidence scores above this threshold will be considered.\n",
    "        allowed_classes (list): List of class IDs to include in the detection. Only objects belonging to \n",
    "                                these classes will be returned in the output. Default is [1, 2].\n",
    "                                Label of classes are : ball= 0,  goalkeeper=1, player=2, referee = 3  \n",
    "\n",
    "\n",
    "    Returns:\n",
    "        list: A list of detected objects, where each object is represented as a tuple:\n",
    "            - Bounding box coordinates (x, y, width, height) as a list of integers.\n",
    "            - Class ID (int): The numerical class identifier for the detected object.\n",
    "            - Confidence score (float): The confidence score of the detection.\n",
    "        \n",
    "    Notes:\n",
    "        - `result.boxes` provides bounding box coordinates as box.xyxy (in both `xyxy` and `xywh` format), confidence scores as box.conf,\n",
    "          and class IDs as box.cls. \n",
    "          The `xyxy` format includes the top-left and bottom-right coordinates of each bounding box.\n",
    "        - Only the specified `allowed_classes` are included in the returned detections list.\n",
    "        \n",
    "        - Coordinates (box.xyxy):  The bounding box coordinates are given as [x1, y1, x2, y2], where \n",
    "        - x1, y1 are the top-left corner coordinates while x2, y2 are the bottom-right corner coordinates.\n",
    "        \n",
    "        - Confidence Score (box.conf): This is the model's confidence level for that bounding box, typically ranging from 0 to 1.\n",
    "        - Class ID (box.cls): The predicted class ID for that box, indicating which class the box corresponds to based on the model's training.\n",
    "\n",
    "    \"\"\"\n",
    "    results= model.predict(source= image, conf=0.7, save= False,  classes = allowed_classes)\n",
    "    result = results[0]\n",
    "    # result.boxes : Boxes object for bounding box outputs\n",
    "    # result.masks : Masks object for segmentation masks outputs\n",
    "    # result.keypoints : Keypoints object for pose outputs\n",
    "    # result.probs  : Probs object for classification outputs\n",
    "    # result.obb  : Oriented boxes object for OBB outputs\n",
    "    boxes=result.boxes\n",
    "    detection=[]\n",
    "    for box in boxes:\n",
    "        x1, y1, x2, y2 = box.xyxy[0]\n",
    "        x1, y1, x2, y2 = int(x1), int(y1), int(x2), int(y2)\n",
    "        w, h = x2-x1, y2-y1\n",
    "        class_number = int(box.cls[0])\n",
    "        conf = box.conf[0]\n",
    "        detection.append(  ( ([x1,y1, w, h]), class_number, conf ) )\n",
    "    return detection\n",
    "\n",
    "\n",
    "def track( object_tracker, detections, frame):\n",
    "    \"\"\"\n",
    "    Tracks detected objects across frames using the DeepSort object tracker.\n",
    "\n",
    "    Args:\n",
    "        object_tracker (DeepSort): An instance of the DeepSort tracker configured with desired parameters.\n",
    "                                   This tracker maintains unique identities for objects across frames.\n",
    "        detections (list): A list of detected objects from the current frame. Each detection should be a tuple \n",
    "                           containing bounding box coordinates and relevant information in the format:\n",
    "                           (bbox, class_id, confidence).\n",
    "        frame: The current frame (image) used for tracking, typically a BGR image as expected by DeepSort.\n",
    "\n",
    "\n",
    "    Returns:\n",
    "        tuple: A tuple containing:\n",
    "            - tracking_ids (list): A list of unique tracking IDs for each confirmed object track.\n",
    "            - boxes (list): A list of bounding boxes (as lists of coordinates in `[left, top, right, bottom]` format)\n",
    "                            for each confirmed track, where each bounding box corresponds to the track ID at the same index.\n",
    "\n",
    "    Notes:\n",
    "        - Only confirmed tracks are returned, which have met DeepSort's criteria for reliability.\n",
    "        - The `update_tracks` method in DeepSort takes detections and the current frame, updates internal tracking states,\n",
    "          and returns a list of active tracks.\n",
    "        - The `to_ltrb` method is used to retrieve each track's bounding box in `[left, top, right, bottom]` format.\n",
    "\n",
    "    \"\"\"\n",
    "    tracks = object_tracker.update_tracks(detections, frame= frame)\n",
    "    tracking_ids = []\n",
    "    boxes = []\n",
    "    for track in tracks:\n",
    "        if not track.is_confirmed():\n",
    "            continue\n",
    "        tracking_ids.append(track.track_id)\n",
    "        ltrb = track.to_ltrb()\n",
    "        boxes.append(ltrb)\n",
    "    return tracking_ids, boxes\n",
    "\n",
    "object_tracker = DeepSort(\n",
    "        max_age=20,\n",
    "        n_init=2,\n",
    "        nms_max_overlap=0.3,\n",
    "        max_cosine_distance=0.8,\n",
    "        nn_budget=None,\n",
    "        override_track_class=None,\n",
    "        embedder=\"mobilenet\",\n",
    "        half=True,\n",
    "        bgr=True,\n",
    "        embedder_model_name=None,\n",
    "        embedder_wts=None,\n",
    "        polygon=False,\n",
    "        today=None\n",
    "    )"
   ]
  },
  {
   "cell_type": "code",
   "execution_count": null,
   "metadata": {},
   "outputs": [
    {
     "name": "stdout",
     "output_type": "stream",
     "text": [
      "\n",
      "0: 384x640 13 players, 213.2ms\n",
      "Speed: 4.2ms preprocess, 213.2ms inference, 2.1ms postprocess per image at shape (1, 3, 384, 640)\n",
      "Current fps: 4.010298703741731\n",
      "\n",
      "0: 384x640 15 players, 8.8ms\n",
      "Speed: 1.3ms preprocess, 8.8ms inference, 1.3ms postprocess per image at shape (1, 3, 384, 640)\n",
      "Current fps: 19.684182255947317\n",
      "\n",
      "0: 384x640 15 players, 18.4ms\n",
      "Speed: 1.5ms preprocess, 18.4ms inference, 1.3ms postprocess per image at shape (1, 3, 384, 640)\n",
      "Current fps: 19.758400600091406\n",
      "\n",
      "0: 384x640 11 players, 8.7ms\n",
      "Speed: 1.4ms preprocess, 8.7ms inference, 5.4ms postprocess per image at shape (1, 3, 384, 640)\n",
      "Current fps: 23.491514700802725\n",
      "\n",
      "0: 384x640 12 players, 8.7ms\n",
      "Speed: 2.8ms preprocess, 8.7ms inference, 1.4ms postprocess per image at shape (1, 3, 384, 640)\n",
      "Current fps: 21.533157822516465\n",
      "\n",
      "0: 384x640 13 players, 11.4ms\n",
      "Speed: 1.2ms preprocess, 11.4ms inference, 1.5ms postprocess per image at shape (1, 3, 384, 640)\n",
      "Current fps: 23.926910943746574\n",
      "\n",
      "0: 384x640 15 players, 9.0ms\n",
      "Speed: 1.3ms preprocess, 9.0ms inference, 4.3ms postprocess per image at shape (1, 3, 384, 640)\n",
      "Current fps: 21.101506666398762\n",
      "\n",
      "0: 384x640 15 players, 8.3ms\n",
      "Speed: 1.3ms preprocess, 8.3ms inference, 1.4ms postprocess per image at shape (1, 3, 384, 640)\n",
      "Current fps: 21.808108533853915\n",
      "\n",
      "0: 384x640 15 players, 8.9ms\n",
      "Speed: 3.3ms preprocess, 8.9ms inference, 1.9ms postprocess per image at shape (1, 3, 384, 640)\n",
      "Current fps: 18.820311626143187\n",
      "\n",
      "0: 384x640 13 players, 8.5ms\n",
      "Speed: 1.5ms preprocess, 8.5ms inference, 1.6ms postprocess per image at shape (1, 3, 384, 640)\n",
      "Current fps: 22.216402017917762\n",
      "\n",
      "0: 384x640 12 players, 8.7ms\n",
      "Speed: 3.8ms preprocess, 8.7ms inference, 1.7ms postprocess per image at shape (1, 3, 384, 640)\n",
      "Current fps: 24.101922015189967\n",
      "\n",
      "0: 384x640 11 players, 14.3ms\n",
      "Speed: 1.4ms preprocess, 14.3ms inference, 1.4ms postprocess per image at shape (1, 3, 384, 640)\n",
      "Current fps: 23.036942640060698\n",
      "\n",
      "0: 384x640 13 players, 8.4ms\n",
      "Speed: 1.3ms preprocess, 8.4ms inference, 1.2ms postprocess per image at shape (1, 3, 384, 640)\n",
      "Current fps: 22.940100552666802\n",
      "\n",
      "0: 384x640 14 players, 13.3ms\n",
      "Speed: 1.2ms preprocess, 13.3ms inference, 1.4ms postprocess per image at shape (1, 3, 384, 640)\n",
      "Current fps: 20.045741174100428\n",
      "\n",
      "0: 384x640 15 players, 21.3ms\n",
      "Speed: 1.8ms preprocess, 21.3ms inference, 3.4ms postprocess per image at shape (1, 3, 384, 640)\n",
      "Current fps: 17.687348105592633\n",
      "\n",
      "0: 384x640 13 players, 14.4ms\n",
      "Speed: 1.5ms preprocess, 14.4ms inference, 1.9ms postprocess per image at shape (1, 3, 384, 640)\n",
      "Current fps: 20.80073554667003\n",
      "\n",
      "0: 384x640 14 players, 8.5ms\n",
      "Speed: 1.3ms preprocess, 8.5ms inference, 1.8ms postprocess per image at shape (1, 3, 384, 640)\n",
      "Current fps: 20.318766910665165\n",
      "\n",
      "0: 384x640 13 players, 8.6ms\n",
      "Speed: 1.3ms preprocess, 8.6ms inference, 1.7ms postprocess per image at shape (1, 3, 384, 640)\n",
      "Current fps: 22.839440333454508\n",
      "\n",
      "0: 384x640 13 players, 9.3ms\n",
      "Speed: 4.4ms preprocess, 9.3ms inference, 1.4ms postprocess per image at shape (1, 3, 384, 640)\n",
      "Current fps: 19.824721705545382\n",
      "\n",
      "0: 384x640 14 players, 9.5ms\n",
      "Speed: 3.2ms preprocess, 9.5ms inference, 1.3ms postprocess per image at shape (1, 3, 384, 640)\n",
      "Current fps: 20.312170434901418\n",
      "\n",
      "0: 384x640 13 players, 9.0ms\n",
      "Speed: 3.1ms preprocess, 9.0ms inference, 1.3ms postprocess per image at shape (1, 3, 384, 640)\n",
      "Current fps: 21.10798961463599\n",
      "\n",
      "0: 384x640 14 players, 13.0ms\n",
      "Speed: 1.4ms preprocess, 13.0ms inference, 1.6ms postprocess per image at shape (1, 3, 384, 640)\n",
      "Current fps: 20.05734877371435\n",
      "\n",
      "0: 384x640 13 players, 9.1ms\n",
      "Speed: 4.9ms preprocess, 9.1ms inference, 1.3ms postprocess per image at shape (1, 3, 384, 640)\n",
      "Current fps: 20.738042030153803\n",
      "\n",
      "0: 384x640 13 players, 15.1ms\n",
      "Speed: 1.3ms preprocess, 15.1ms inference, 1.2ms postprocess per image at shape (1, 3, 384, 640)\n",
      "Current fps: 19.39658090280335\n",
      "\n",
      "0: 384x640 13 players, 12.0ms\n",
      "Speed: 3.3ms preprocess, 12.0ms inference, 1.7ms postprocess per image at shape (1, 3, 384, 640)\n",
      "Current fps: 19.630580352901\n",
      "\n",
      "0: 384x640 11 players, 9.1ms\n",
      "Speed: 2.0ms preprocess, 9.1ms inference, 1.4ms postprocess per image at shape (1, 3, 384, 640)\n",
      "Current fps: 24.68638417533032\n",
      "\n",
      "0: 384x640 12 players, 12.7ms\n",
      "Speed: 1.5ms preprocess, 12.7ms inference, 1.5ms postprocess per image at shape (1, 3, 384, 640)\n",
      "Current fps: 22.31737756929282\n",
      "\n",
      "0: 384x640 10 players, 8.6ms\n",
      "Speed: 1.4ms preprocess, 8.6ms inference, 6.5ms postprocess per image at shape (1, 3, 384, 640)\n",
      "Current fps: 21.235178110457962\n",
      "\n",
      "0: 384x640 12 players, 19.6ms\n",
      "Speed: 1.5ms preprocess, 19.6ms inference, 1.4ms postprocess per image at shape (1, 3, 384, 640)\n",
      "Current fps: 19.67358376719968\n",
      "\n",
      "0: 384x640 12 players, 8.2ms\n",
      "Speed: 1.3ms preprocess, 8.2ms inference, 1.6ms postprocess per image at shape (1, 3, 384, 640)\n",
      "Current fps: 21.67024167869144\n",
      "\n",
      "0: 384x640 10 players, 20.2ms\n",
      "Speed: 1.6ms preprocess, 20.2ms inference, 3.0ms postprocess per image at shape (1, 3, 384, 640)\n",
      "Current fps: 17.691331171909038\n",
      "\n",
      "0: 384x640 11 players, 12.9ms\n",
      "Speed: 1.2ms preprocess, 12.9ms inference, 1.6ms postprocess per image at shape (1, 3, 384, 640)\n",
      "Current fps: 22.255890438639096\n",
      "\n",
      "0: 384x640 11 players, 8.5ms\n",
      "Speed: 1.4ms preprocess, 8.5ms inference, 1.3ms postprocess per image at shape (1, 3, 384, 640)\n",
      "Current fps: 20.00102405280729\n",
      "\n",
      "0: 384x640 10 players, 8.9ms\n",
      "Speed: 2.2ms preprocess, 8.9ms inference, 4.2ms postprocess per image at shape (1, 3, 384, 640)\n",
      "Current fps: 22.646232668744346\n",
      "\n",
      "0: 384x640 11 players, 8.6ms\n",
      "Speed: 3.2ms preprocess, 8.6ms inference, 1.3ms postprocess per image at shape (1, 3, 384, 640)\n",
      "Current fps: 24.527659816842554\n",
      "\n",
      "0: 384x640 10 players, 11.6ms\n",
      "Speed: 1.3ms preprocess, 11.6ms inference, 1.6ms postprocess per image at shape (1, 3, 384, 640)\n",
      "Current fps: 22.12061926840667\n",
      "\n",
      "0: 384x640 12 players, 8.7ms\n",
      "Speed: 1.3ms preprocess, 8.7ms inference, 1.3ms postprocess per image at shape (1, 3, 384, 640)\n",
      "Current fps: 20.913070076844384\n",
      "\n",
      "0: 384x640 12 players, 23.5ms\n",
      "Speed: 1.5ms preprocess, 23.5ms inference, 2.8ms postprocess per image at shape (1, 3, 384, 640)\n",
      "Current fps: 15.211904105902477\n",
      "\n",
      "0: 384x640 10 players, 8.7ms\n",
      "Speed: 1.5ms preprocess, 8.7ms inference, 1.4ms postprocess per image at shape (1, 3, 384, 640)\n",
      "Current fps: 24.078783661710535\n",
      "\n",
      "0: 384x640 8 players, 13.1ms\n",
      "Speed: 1.5ms preprocess, 13.1ms inference, 1.3ms postprocess per image at shape (1, 3, 384, 640)\n",
      "Current fps: 23.66308480935974\n",
      "\n",
      "0: 384x640 8 players, 9.2ms\n",
      "Speed: 1.4ms preprocess, 9.2ms inference, 4.3ms postprocess per image at shape (1, 3, 384, 640)\n",
      "Current fps: 22.749126883364024\n",
      "\n",
      "0: 384x640 10 players, 11.6ms\n",
      "Speed: 1.7ms preprocess, 11.6ms inference, 1.6ms postprocess per image at shape (1, 3, 384, 640)\n",
      "Current fps: 19.548294815134717\n",
      "\n",
      "0: 384x640 11 players, 8.6ms\n",
      "Speed: 2.8ms preprocess, 8.6ms inference, 1.3ms postprocess per image at shape (1, 3, 384, 640)\n",
      "Current fps: 20.849750774496012\n",
      "\n",
      "0: 384x640 10 players, 11.3ms\n",
      "Speed: 1.5ms preprocess, 11.3ms inference, 1.3ms postprocess per image at shape (1, 3, 384, 640)\n",
      "Current fps: 22.747186855515512\n",
      "\n",
      "0: 384x640 10 players, 13.6ms\n",
      "Speed: 1.4ms preprocess, 13.6ms inference, 1.6ms postprocess per image at shape (1, 3, 384, 640)\n",
      "Current fps: 18.075882010468344\n",
      "\n",
      "0: 384x640 9 players, 8.7ms\n",
      "Speed: 3.9ms preprocess, 8.7ms inference, 1.4ms postprocess per image at shape (1, 3, 384, 640)\n",
      "Current fps: 20.493920283608475\n",
      "\n",
      "0: 384x640 10 players, 18.6ms\n",
      "Speed: 4.3ms preprocess, 18.6ms inference, 1.4ms postprocess per image at shape (1, 3, 384, 640)\n",
      "Current fps: 18.50435788743636\n",
      "\n",
      "0: 384x640 10 players, 9.1ms\n",
      "Speed: 1.4ms preprocess, 9.1ms inference, 1.6ms postprocess per image at shape (1, 3, 384, 640)\n",
      "Current fps: 21.353957041817225\n",
      "\n",
      "0: 384x640 9 players, 8.6ms\n",
      "Speed: 2.4ms preprocess, 8.6ms inference, 1.3ms postprocess per image at shape (1, 3, 384, 640)\n",
      "Current fps: 20.30665444419716\n",
      "\n",
      "0: 384x640 9 players, 8.5ms\n",
      "Speed: 2.2ms preprocess, 8.5ms inference, 1.3ms postprocess per image at shape (1, 3, 384, 640)\n",
      "Current fps: 24.386791683498625\n",
      "\n",
      "0: 384x640 7 players, 12.2ms\n",
      "Speed: 1.2ms preprocess, 12.2ms inference, 3.7ms postprocess per image at shape (1, 3, 384, 640)\n",
      "Current fps: 22.73751391057394\n",
      "\n",
      "0: 384x640 8 players, 8.5ms\n",
      "Speed: 1.4ms preprocess, 8.5ms inference, 1.4ms postprocess per image at shape (1, 3, 384, 640)\n",
      "Current fps: 22.791903832964696\n",
      "\n",
      "0: 384x640 11 players, 9.7ms\n",
      "Speed: 3.7ms preprocess, 9.7ms inference, 1.4ms postprocess per image at shape (1, 3, 384, 640)\n",
      "Current fps: 20.68515051728066\n",
      "\n",
      "0: 384x640 9 players, 21.6ms\n",
      "Speed: 1.5ms preprocess, 21.6ms inference, 3.3ms postprocess per image at shape (1, 3, 384, 640)\n",
      "Current fps: 17.040356864719936\n",
      "\n",
      "0: 384x640 10 players, 16.0ms\n",
      "Speed: 1.4ms preprocess, 16.0ms inference, 1.4ms postprocess per image at shape (1, 3, 384, 640)\n",
      "Current fps: 20.2786538497199\n",
      "\n",
      "0: 384x640 9 players, 8.6ms\n",
      "Speed: 1.3ms preprocess, 8.6ms inference, 4.3ms postprocess per image at shape (1, 3, 384, 640)\n",
      "Current fps: 22.75644545561847\n",
      "\n",
      "0: 384x640 8 players, 8.5ms\n",
      "Speed: 1.6ms preprocess, 8.5ms inference, 1.3ms postprocess per image at shape (1, 3, 384, 640)\n",
      "Current fps: 25.615384640821418\n",
      "\n",
      "0: 384x640 10 players, 12.4ms\n",
      "Speed: 1.2ms preprocess, 12.4ms inference, 2.2ms postprocess per image at shape (1, 3, 384, 640)\n",
      "Current fps: 21.874735725368616\n",
      "\n",
      "0: 384x640 9 players, 17.8ms\n",
      "Speed: 1.6ms preprocess, 17.8ms inference, 1.5ms postprocess per image at shape (1, 3, 384, 640)\n",
      "Current fps: 20.587976551420734\n",
      "\n",
      "0: 384x640 9 players, 21.0ms\n",
      "Speed: 1.5ms preprocess, 21.0ms inference, 1.9ms postprocess per image at shape (1, 3, 384, 640)\n",
      "Current fps: 19.01310501058549\n",
      "\n",
      "0: 384x640 9 players, 21.1ms\n",
      "Speed: 1.4ms preprocess, 21.1ms inference, 2.9ms postprocess per image at shape (1, 3, 384, 640)\n",
      "Current fps: 17.765597053159794\n",
      "\n",
      "0: 384x640 7 players, 12.7ms\n",
      "Speed: 1.2ms preprocess, 12.7ms inference, 2.6ms postprocess per image at shape (1, 3, 384, 640)\n",
      "Current fps: 22.97977924239428\n",
      "\n",
      "0: 384x640 10 players, 24.0ms\n",
      "Speed: 1.4ms preprocess, 24.0ms inference, 6.5ms postprocess per image at shape (1, 3, 384, 640)\n",
      "Current fps: 16.27610524514659\n",
      "\n",
      "0: 384x640 9 players, 8.8ms\n",
      "Speed: 1.4ms preprocess, 8.8ms inference, 1.6ms postprocess per image at shape (1, 3, 384, 640)\n",
      "Current fps: 22.256302555632413\n",
      "\n",
      "0: 384x640 9 players, 9.2ms\n",
      "Speed: 3.4ms preprocess, 9.2ms inference, 1.3ms postprocess per image at shape (1, 3, 384, 640)\n",
      "Current fps: 22.825190199856294\n",
      "\n",
      "0: 384x640 7 players, 18.3ms\n",
      "Speed: 1.4ms preprocess, 18.3ms inference, 1.3ms postprocess per image at shape (1, 3, 384, 640)\n",
      "Current fps: 18.921225262896023\n",
      "\n",
      "0: 384x640 8 players, 21.6ms\n",
      "Speed: 1.6ms preprocess, 21.6ms inference, 3.2ms postprocess per image at shape (1, 3, 384, 640)\n",
      "Current fps: 18.983180010288578\n",
      "\n",
      "0: 384x640 9 players, 9.3ms\n",
      "Speed: 1.9ms preprocess, 9.3ms inference, 1.4ms postprocess per image at shape (1, 3, 384, 640)\n",
      "Current fps: 23.60198648449257\n",
      "\n",
      "0: 384x640 9 players, 12.4ms\n",
      "Speed: 1.2ms preprocess, 12.4ms inference, 1.4ms postprocess per image at shape (1, 3, 384, 640)\n",
      "Current fps: 23.096859219975023\n",
      "\n",
      "0: 384x640 9 players, 21.4ms\n",
      "Speed: 1.6ms preprocess, 21.4ms inference, 2.8ms postprocess per image at shape (1, 3, 384, 640)\n",
      "Current fps: 18.229867139985885\n",
      "\n",
      "0: 384x640 9 players, 12.5ms\n",
      "Speed: 1.2ms preprocess, 12.5ms inference, 1.4ms postprocess per image at shape (1, 3, 384, 640)\n",
      "Current fps: 22.94858891883445\n",
      "\n",
      "0: 384x640 7 players, 21.3ms\n",
      "Speed: 1.5ms preprocess, 21.3ms inference, 2.3ms postprocess per image at shape (1, 3, 384, 640)\n",
      "Current fps: 16.795359428948466\n",
      "\n",
      "0: 384x640 8 players, 10.5ms\n",
      "Speed: 4.3ms preprocess, 10.5ms inference, 3.3ms postprocess per image at shape (1, 3, 384, 640)\n",
      "Current fps: 21.44436642936634\n",
      "\n",
      "0: 384x640 10 players, 12.7ms\n",
      "Speed: 1.2ms preprocess, 12.7ms inference, 1.6ms postprocess per image at shape (1, 3, 384, 640)\n",
      "Current fps: 18.309636421669417\n",
      "\n",
      "0: 384x640 9 players, 9.2ms\n",
      "Speed: 1.9ms preprocess, 9.2ms inference, 1.3ms postprocess per image at shape (1, 3, 384, 640)\n",
      "Current fps: 23.629949135998896\n",
      "\n",
      "0: 384x640 6 players, 12.8ms\n",
      "Speed: 1.2ms preprocess, 12.8ms inference, 1.5ms postprocess per image at shape (1, 3, 384, 640)\n",
      "Current fps: 20.377729749712046\n",
      "\n",
      "0: 384x640 6 players, 13.1ms\n",
      "Speed: 1.3ms preprocess, 13.1ms inference, 1.5ms postprocess per image at shape (1, 3, 384, 640)\n",
      "Current fps: 20.42601226522209\n",
      "\n",
      "0: 384x640 9 players, 12.9ms\n",
      "Speed: 1.3ms preprocess, 12.9ms inference, 3.0ms postprocess per image at shape (1, 3, 384, 640)\n",
      "Current fps: 21.285913993089164\n",
      "\n",
      "0: 384x640 9 players, 12.8ms\n",
      "Speed: 1.2ms preprocess, 12.8ms inference, 1.7ms postprocess per image at shape (1, 3, 384, 640)\n",
      "Current fps: 21.364958028952337\n",
      "\n",
      "0: 384x640 10 players, 8.3ms\n",
      "Speed: 1.3ms preprocess, 8.3ms inference, 5.2ms postprocess per image at shape (1, 3, 384, 640)\n",
      "Current fps: 20.72311700350107\n",
      "\n",
      "0: 384x640 8 players, 8.4ms\n",
      "Speed: 1.4ms preprocess, 8.4ms inference, 1.4ms postprocess per image at shape (1, 3, 384, 640)\n",
      "Current fps: 22.72815292586524\n",
      "\n",
      "0: 384x640 10 players, 8.6ms\n",
      "Speed: 3.4ms preprocess, 8.6ms inference, 1.4ms postprocess per image at shape (1, 3, 384, 640)\n",
      "Current fps: 22.689277984474483\n",
      "\n",
      "0: 384x640 6 players, 11.4ms\n",
      "Speed: 1.3ms preprocess, 11.4ms inference, 1.6ms postprocess per image at shape (1, 3, 384, 640)\n",
      "Current fps: 23.574158291313417\n",
      "\n",
      "0: 384x640 10 players, 8.6ms\n",
      "Speed: 1.4ms preprocess, 8.6ms inference, 1.3ms postprocess per image at shape (1, 3, 384, 640)\n",
      "Current fps: 21.934236902709806\n",
      "\n",
      "0: 384x640 10 players, 8.5ms\n",
      "Speed: 3.7ms preprocess, 8.5ms inference, 1.7ms postprocess per image at shape (1, 3, 384, 640)\n",
      "Current fps: 20.213764194841232\n",
      "\n",
      "0: 384x640 10 players, 8.9ms\n",
      "Speed: 3.6ms preprocess, 8.9ms inference, 1.4ms postprocess per image at shape (1, 3, 384, 640)\n",
      "Current fps: 22.595247668358557\n",
      "\n",
      "0: 384x640 10 players, 23.2ms\n",
      "Speed: 1.4ms preprocess, 23.2ms inference, 3.6ms postprocess per image at shape (1, 3, 384, 640)\n",
      "Current fps: 15.762414016353087\n",
      "\n",
      "0: 384x640 9 players, 8.5ms\n",
      "Speed: 1.2ms preprocess, 8.5ms inference, 4.3ms postprocess per image at shape (1, 3, 384, 640)\n",
      "Current fps: 21.1947677076142\n",
      "\n",
      "0: 384x640 8 players, 11.5ms\n",
      "Speed: 1.3ms preprocess, 11.5ms inference, 1.6ms postprocess per image at shape (1, 3, 384, 640)\n",
      "Current fps: 23.438190876957933\n",
      "\n",
      "0: 384x640 10 players, 8.8ms\n",
      "Speed: 3.2ms preprocess, 8.8ms inference, 1.5ms postprocess per image at shape (1, 3, 384, 640)\n",
      "Current fps: 22.73955777300243\n",
      "\n",
      "0: 384x640 9 players, 13.3ms\n",
      "Speed: 1.4ms preprocess, 13.3ms inference, 1.5ms postprocess per image at shape (1, 3, 384, 640)\n",
      "Current fps: 21.577033905461448\n",
      "\n",
      "0: 384x640 8 players, 11.6ms\n",
      "Speed: 1.2ms preprocess, 11.6ms inference, 1.9ms postprocess per image at shape (1, 3, 384, 640)\n",
      "Current fps: 20.114285751416976\n",
      "\n",
      "0: 384x640 8 players, 13.3ms\n",
      "Speed: 1.3ms preprocess, 13.3ms inference, 2.7ms postprocess per image at shape (1, 3, 384, 640)\n",
      "Current fps: 22.290460255689677\n",
      "\n",
      "0: 384x640 9 players, 8.4ms\n",
      "Speed: 1.3ms preprocess, 8.4ms inference, 1.7ms postprocess per image at shape (1, 3, 384, 640)\n",
      "Current fps: 23.406147282603563\n",
      "\n",
      "0: 384x640 10 players, 8.6ms\n",
      "Speed: 4.9ms preprocess, 8.6ms inference, 1.4ms postprocess per image at shape (1, 3, 384, 640)\n",
      "Current fps: 22.985883243015603\n",
      "\n",
      "0: 384x640 9 players, 12.3ms\n",
      "Speed: 1.2ms preprocess, 12.3ms inference, 1.5ms postprocess per image at shape (1, 3, 384, 640)\n",
      "Current fps: 21.462015687184707\n",
      "\n",
      "0: 384x640 10 players, 8.5ms\n",
      "Speed: 1.2ms preprocess, 8.5ms inference, 5.2ms postprocess per image at shape (1, 3, 384, 640)\n",
      "Current fps: 21.52109785280317\n",
      "\n",
      "0: 384x640 9 players, 8.3ms\n",
      "Speed: 1.3ms preprocess, 8.3ms inference, 1.3ms postprocess per image at shape (1, 3, 384, 640)\n",
      "Current fps: 23.7774135451019\n",
      "\n",
      "0: 384x640 7 players, 11.5ms\n",
      "Speed: 1.2ms preprocess, 11.5ms inference, 1.8ms postprocess per image at shape (1, 3, 384, 640)\n",
      "Current fps: 24.130007655683325\n",
      "\n",
      "0: 384x640 9 players, 8.2ms\n",
      "Speed: 1.3ms preprocess, 8.2ms inference, 1.4ms postprocess per image at shape (1, 3, 384, 640)\n",
      "Current fps: 20.61323083772295\n",
      "\n",
      "0: 384x640 10 players, 8.4ms\n",
      "Speed: 1.3ms preprocess, 8.4ms inference, 1.7ms postprocess per image at shape (1, 3, 384, 640)\n",
      "Current fps: 21.46870318179081\n",
      "\n",
      "0: 384x640 9 players, 8.5ms\n",
      "Speed: 2.0ms preprocess, 8.5ms inference, 1.3ms postprocess per image at shape (1, 3, 384, 640)\n",
      "Current fps: 20.344194061007546\n",
      "\n",
      "0: 384x640 9 players, 8.6ms\n",
      "Speed: 1.7ms preprocess, 8.6ms inference, 1.3ms postprocess per image at shape (1, 3, 384, 640)\n",
      "Current fps: 23.211851786480764\n",
      "\n",
      "0: 384x640 9 players, 11.6ms\n",
      "Speed: 1.2ms preprocess, 11.6ms inference, 1.4ms postprocess per image at shape (1, 3, 384, 640)\n",
      "Current fps: 22.6255303449355\n",
      "\n",
      "0: 384x640 9 players, 15.9ms\n",
      "Speed: 1.4ms preprocess, 15.9ms inference, 1.4ms postprocess per image at shape (1, 3, 384, 640)\n",
      "Current fps: 16.72545776579861\n",
      "\n",
      "0: 384x640 7 players, 8.7ms\n",
      "Speed: 2.8ms preprocess, 8.7ms inference, 1.5ms postprocess per image at shape (1, 3, 384, 640)\n",
      "Current fps: 23.69421141588039\n",
      "\n",
      "0: 384x640 10 players, 13.5ms\n",
      "Speed: 1.3ms preprocess, 13.5ms inference, 2.0ms postprocess per image at shape (1, 3, 384, 640)\n",
      "Current fps: 19.704202482413944\n",
      "\n",
      "0: 384x640 8 players, 15.1ms\n",
      "Speed: 1.2ms preprocess, 15.1ms inference, 1.3ms postprocess per image at shape (1, 3, 384, 640)\n",
      "Current fps: 20.433155933703414\n",
      "\n",
      "0: 384x640 9 players, 13.3ms\n",
      "Speed: 1.4ms preprocess, 13.3ms inference, 2.0ms postprocess per image at shape (1, 3, 384, 640)\n",
      "Current fps: 22.224489119909652\n",
      "\n",
      "0: 384x640 9 players, 8.8ms\n",
      "Speed: 1.2ms preprocess, 8.8ms inference, 5.5ms postprocess per image at shape (1, 3, 384, 640)\n",
      "Current fps: 20.82534030739339\n",
      "\n",
      "0: 384x640 9 players, 8.4ms\n",
      "Speed: 1.2ms preprocess, 8.4ms inference, 1.4ms postprocess per image at shape (1, 3, 384, 640)\n",
      "Current fps: 21.605774895254584\n",
      "\n",
      "0: 384x640 9 players, 8.4ms\n",
      "Speed: 1.3ms preprocess, 8.4ms inference, 1.3ms postprocess per image at shape (1, 3, 384, 640)\n",
      "Current fps: 21.437916523060384\n",
      "\n",
      "0: 384x640 9 players, 9.6ms\n",
      "Speed: 1.5ms preprocess, 9.6ms inference, 1.7ms postprocess per image at shape (1, 3, 384, 640)\n",
      "Current fps: 20.77248423587855\n",
      "\n",
      "0: 384x640 9 players, 9.9ms\n",
      "Speed: 3.5ms preprocess, 9.9ms inference, 1.5ms postprocess per image at shape (1, 3, 384, 640)\n",
      "Current fps: 21.855630925642245\n",
      "\n",
      "0: 384x640 9 players, 12.9ms\n",
      "Speed: 1.2ms preprocess, 12.9ms inference, 1.6ms postprocess per image at shape (1, 3, 384, 640)\n",
      "Current fps: 18.425921438358266\n",
      "\n",
      "0: 384x640 9 players, 9.9ms\n",
      "Speed: 1.4ms preprocess, 9.9ms inference, 2.6ms postprocess per image at shape (1, 3, 384, 640)\n",
      "Current fps: 20.968096601328103\n",
      "\n",
      "0: 384x640 9 players, 8.9ms\n",
      "Speed: 3.9ms preprocess, 8.9ms inference, 1.4ms postprocess per image at shape (1, 3, 384, 640)\n",
      "Current fps: 20.02811105621622\n",
      "\n",
      "0: 384x640 9 players, 8.9ms\n",
      "Speed: 2.5ms preprocess, 8.9ms inference, 1.4ms postprocess per image at shape (1, 3, 384, 640)\n",
      "Current fps: 20.787863346933953\n",
      "\n",
      "0: 384x640 9 players, 9.5ms\n",
      "Speed: 3.8ms preprocess, 9.5ms inference, 1.5ms postprocess per image at shape (1, 3, 384, 640)\n",
      "Current fps: 19.58271965998901\n",
      "\n",
      "0: 384x640 9 players, 19.5ms\n",
      "Speed: 2.0ms preprocess, 19.5ms inference, 1.5ms postprocess per image at shape (1, 3, 384, 640)\n",
      "Current fps: 18.842511313424815\n",
      "\n",
      "0: 384x640 8 players, 8.2ms\n",
      "Speed: 1.3ms preprocess, 8.2ms inference, 1.6ms postprocess per image at shape (1, 3, 384, 640)\n",
      "Current fps: 19.275182959118553\n",
      "\n",
      "0: 384x640 7 players, 8.4ms\n",
      "Speed: 1.3ms preprocess, 8.4ms inference, 4.4ms postprocess per image at shape (1, 3, 384, 640)\n",
      "Current fps: 23.826110185746586\n",
      "\n",
      "0: 384x640 7 players, 8.7ms\n",
      "Speed: 2.8ms preprocess, 8.7ms inference, 1.3ms postprocess per image at shape (1, 3, 384, 640)\n",
      "Current fps: 24.188704794021625\n",
      "\n",
      "0: 384x640 8 players, 12.2ms\n",
      "Speed: 1.2ms preprocess, 12.2ms inference, 2.7ms postprocess per image at shape (1, 3, 384, 640)\n",
      "Current fps: 22.34046733707585\n",
      "\n",
      "0: 384x640 8 players, 8.4ms\n",
      "Speed: 1.3ms preprocess, 8.4ms inference, 1.4ms postprocess per image at shape (1, 3, 384, 640)\n",
      "Current fps: 22.339897383562455\n",
      "\n",
      "0: 384x640 8 players, 8.7ms\n",
      "Speed: 3.9ms preprocess, 8.7ms inference, 1.4ms postprocess per image at shape (1, 3, 384, 640)\n",
      "Current fps: 18.508195058649367\n",
      "\n",
      "0: 384x640 7 players, 8.4ms\n",
      "Speed: 1.3ms preprocess, 8.4ms inference, 4.6ms postprocess per image at shape (1, 3, 384, 640)\n",
      "Current fps: 18.735835474149418\n",
      "\n",
      "0: 384x640 8 players, 12.9ms\n",
      "Speed: 1.2ms preprocess, 12.9ms inference, 2.1ms postprocess per image at shape (1, 3, 384, 640)\n",
      "Current fps: 18.880920657351478\n",
      "\n",
      "0: 384x640 8 players, 10.9ms\n",
      "Speed: 1.2ms preprocess, 10.9ms inference, 1.4ms postprocess per image at shape (1, 3, 384, 640)\n",
      "Current fps: 23.59203891296134\n",
      "\n",
      "0: 384x640 8 players, 8.4ms\n",
      "Speed: 1.4ms preprocess, 8.4ms inference, 4.6ms postprocess per image at shape (1, 3, 384, 640)\n",
      "Current fps: 20.810815164275887\n",
      "\n",
      "0: 384x640 8 players, 17.7ms\n",
      "Speed: 1.6ms preprocess, 17.7ms inference, 1.3ms postprocess per image at shape (1, 3, 384, 640)\n",
      "Current fps: 15.920996449482852\n",
      "\n",
      "0: 384x640 8 players, 20.6ms\n",
      "Speed: 1.3ms preprocess, 20.6ms inference, 1.7ms postprocess per image at shape (1, 3, 384, 640)\n",
      "Current fps: 17.652668218433817\n",
      "\n",
      "0: 384x640 8 players, 14.0ms\n",
      "Speed: 1.3ms preprocess, 14.0ms inference, 2.8ms postprocess per image at shape (1, 3, 384, 640)\n",
      "Current fps: 20.910514477774402\n",
      "\n",
      "0: 384x640 8 players, 20.9ms\n",
      "Speed: 1.4ms preprocess, 20.9ms inference, 3.3ms postprocess per image at shape (1, 3, 384, 640)\n",
      "Current fps: 16.465660199019556\n",
      "\n",
      "0: 384x640 8 players, 9.1ms\n",
      "Speed: 1.6ms preprocess, 9.1ms inference, 1.3ms postprocess per image at shape (1, 3, 384, 640)\n",
      "Current fps: 20.494604068082328\n",
      "\n",
      "0: 384x640 8 players, 8.5ms\n",
      "Speed: 1.5ms preprocess, 8.5ms inference, 1.3ms postprocess per image at shape (1, 3, 384, 640)\n",
      "Current fps: 23.129156540908603\n",
      "\n",
      "0: 384x640 8 players, 12.0ms\n",
      "Speed: 1.2ms preprocess, 12.0ms inference, 3.2ms postprocess per image at shape (1, 3, 384, 640)\n",
      "Current fps: 20.26350458729468\n",
      "\n",
      "0: 384x640 8 players, 13.6ms\n",
      "Speed: 1.4ms preprocess, 13.6ms inference, 1.7ms postprocess per image at shape (1, 3, 384, 640)\n",
      "Current fps: 21.266380642345627\n",
      "\n",
      "0: 384x640 8 players, 14.4ms\n",
      "Speed: 1.4ms preprocess, 14.4ms inference, 1.6ms postprocess per image at shape (1, 3, 384, 640)\n",
      "Current fps: 20.443104285460905\n",
      "\n",
      "0: 384x640 7 players, 12.8ms\n",
      "Speed: 1.3ms preprocess, 12.8ms inference, 3.5ms postprocess per image at shape (1, 3, 384, 640)\n",
      "Current fps: 19.398537105742708\n",
      "\n",
      "0: 384x640 9 players, 12.6ms\n",
      "Speed: 1.3ms preprocess, 12.6ms inference, 1.4ms postprocess per image at shape (1, 3, 384, 640)\n",
      "Current fps: 19.99817336699164\n",
      "\n",
      "0: 384x640 8 players, 12.6ms\n",
      "Speed: 1.3ms preprocess, 12.6ms inference, 1.4ms postprocess per image at shape (1, 3, 384, 640)\n",
      "Current fps: 18.301042485760977\n",
      "\n",
      "0: 384x640 9 players, 21.7ms\n",
      "Speed: 1.6ms preprocess, 21.7ms inference, 2.8ms postprocess per image at shape (1, 3, 384, 640)\n",
      "Current fps: 17.429356118224355\n",
      "\n",
      "0: 384x640 7 players, 12.2ms\n",
      "Speed: 1.2ms preprocess, 12.2ms inference, 3.1ms postprocess per image at shape (1, 3, 384, 640)\n",
      "Current fps: 20.469023101533995\n",
      "\n",
      "0: 384x640 8 players, 11.3ms\n",
      "Speed: 1.3ms preprocess, 11.3ms inference, 1.5ms postprocess per image at shape (1, 3, 384, 640)\n",
      "Current fps: 22.236038214328907\n",
      "\n",
      "0: 384x640 8 players, 8.6ms\n",
      "Speed: 1.3ms preprocess, 8.6ms inference, 1.3ms postprocess per image at shape (1, 3, 384, 640)\n",
      "Current fps: 19.144666827949013\n",
      "\n",
      "0: 384x640 10 players, 14.9ms\n",
      "Speed: 1.3ms preprocess, 14.9ms inference, 1.5ms postprocess per image at shape (1, 3, 384, 640)\n",
      "Current fps: 19.20630372367888\n",
      "\n",
      "0: 384x640 9 players, 10.3ms\n",
      "Speed: 1.4ms preprocess, 10.3ms inference, 4.2ms postprocess per image at shape (1, 3, 384, 640)\n",
      "Current fps: 16.737406478125735\n",
      "\n",
      "0: 384x640 8 players, 8.8ms\n",
      "Speed: 1.4ms preprocess, 8.8ms inference, 4.3ms postprocess per image at shape (1, 3, 384, 640)\n",
      "Current fps: 18.376942552857578\n",
      "\n",
      "0: 384x640 7 players, 11.3ms\n",
      "Speed: 1.2ms preprocess, 11.3ms inference, 2.3ms postprocess per image at shape (1, 3, 384, 640)\n",
      "Current fps: 22.41610157600794\n",
      "\n",
      "0: 384x640 9 players, 8.6ms\n",
      "Speed: 1.3ms preprocess, 8.6ms inference, 1.5ms postprocess per image at shape (1, 3, 384, 640)\n",
      "Current fps: 21.448120011352497\n",
      "\n",
      "0: 384x640 8 players, 8.5ms\n",
      "Speed: 1.6ms preprocess, 8.5ms inference, 1.3ms postprocess per image at shape (1, 3, 384, 640)\n",
      "Current fps: 19.94087212350936\n",
      "\n",
      "0: 384x640 9 players, 9.1ms\n",
      "Speed: 1.3ms preprocess, 9.1ms inference, 1.6ms postprocess per image at shape (1, 3, 384, 640)\n",
      "Current fps: 21.76660793860523\n",
      "\n",
      "0: 384x640 9 players, 18.4ms\n",
      "Speed: 1.5ms preprocess, 18.4ms inference, 1.5ms postprocess per image at shape (1, 3, 384, 640)\n",
      "Current fps: 16.66788092159852\n",
      "\n",
      "0: 384x640 9 players, 11.3ms\n",
      "Speed: 1.3ms preprocess, 11.3ms inference, 1.6ms postprocess per image at shape (1, 3, 384, 640)\n",
      "Current fps: 20.92009113086971\n",
      "\n",
      "0: 384x640 8 players, 11.1ms\n",
      "Speed: 1.3ms preprocess, 11.1ms inference, 1.6ms postprocess per image at shape (1, 3, 384, 640)\n",
      "Current fps: 21.494535240019676\n",
      "\n",
      "0: 384x640 8 players, 8.2ms\n",
      "Speed: 1.3ms preprocess, 8.2ms inference, 5.0ms postprocess per image at shape (1, 3, 384, 640)\n",
      "Current fps: 19.665194556108386\n",
      "\n",
      "0: 384x640 9 players, 11.0ms\n",
      "Speed: 1.3ms preprocess, 11.0ms inference, 1.6ms postprocess per image at shape (1, 3, 384, 640)\n",
      "Current fps: 21.20337282930518\n",
      "\n",
      "0: 384x640 10 players, 8.4ms\n",
      "Speed: 1.3ms preprocess, 8.4ms inference, 1.4ms postprocess per image at shape (1, 3, 384, 640)\n",
      "Current fps: 20.375661175253484\n",
      "\n",
      "0: 384x640 10 players, 8.5ms\n",
      "Speed: 1.3ms preprocess, 8.5ms inference, 4.4ms postprocess per image at shape (1, 3, 384, 640)\n",
      "Current fps: 17.724971857153154\n",
      "\n",
      "0: 384x640 10 players, 11.4ms\n",
      "Speed: 1.2ms preprocess, 11.4ms inference, 2.0ms postprocess per image at shape (1, 3, 384, 640)\n",
      "Current fps: 17.03026944780512\n",
      "\n",
      "0: 384x640 10 players, 8.2ms\n",
      "Speed: 1.3ms preprocess, 8.2ms inference, 1.6ms postprocess per image at shape (1, 3, 384, 640)\n",
      "Current fps: 19.55406715191384\n",
      "\n",
      "0: 384x640 8 players, 8.4ms\n",
      "Speed: 1.2ms preprocess, 8.4ms inference, 5.1ms postprocess per image at shape (1, 3, 384, 640)\n",
      "Current fps: 21.986051477784333\n",
      "\n",
      "0: 384x640 7 players, 19.6ms\n",
      "Speed: 1.4ms preprocess, 19.6ms inference, 1.4ms postprocess per image at shape (1, 3, 384, 640)\n",
      "Current fps: 19.39410639483921\n",
      "\n",
      "0: 384x640 9 players, 8.4ms\n",
      "Speed: 1.4ms preprocess, 8.4ms inference, 1.7ms postprocess per image at shape (1, 3, 384, 640)\n",
      "Current fps: 20.724480159813062\n",
      "\n",
      "0: 384x640 9 players, 15.5ms\n",
      "Speed: 1.8ms preprocess, 15.5ms inference, 2.3ms postprocess per image at shape (1, 3, 384, 640)\n",
      "Current fps: 17.63060967214106\n",
      "\n",
      "0: 384x640 8 players, 23.8ms\n",
      "Speed: 1.4ms preprocess, 23.8ms inference, 1.6ms postprocess per image at shape (1, 3, 384, 640)\n",
      "Current fps: 17.579524494563213\n",
      "\n",
      "0: 384x640 6 players, 12.1ms\n",
      "Speed: 1.8ms preprocess, 12.1ms inference, 4.5ms postprocess per image at shape (1, 3, 384, 640)\n",
      "Current fps: 20.909698602103468\n",
      "\n",
      "0: 384x640 8 players, 9.1ms\n",
      "Speed: 1.6ms preprocess, 9.1ms inference, 1.3ms postprocess per image at shape (1, 3, 384, 640)\n",
      "Current fps: 23.641046454298916\n",
      "\n",
      "0: 384x640 11 players, 12.9ms\n",
      "Speed: 1.2ms preprocess, 12.9ms inference, 1.6ms postprocess per image at shape (1, 3, 384, 640)\n",
      "Current fps: 19.549760416231635\n",
      "\n",
      "0: 384x640 11 players, 12.8ms\n",
      "Speed: 1.3ms preprocess, 12.8ms inference, 1.9ms postprocess per image at shape (1, 3, 384, 640)\n",
      "Current fps: 19.22532365754649\n",
      "\n",
      "0: 384x640 9 players, 12.6ms\n",
      "Speed: 1.7ms preprocess, 12.6ms inference, 2.5ms postprocess per image at shape (1, 3, 384, 640)\n",
      "Current fps: 18.094392983728998\n",
      "\n",
      "0: 384x640 11 players, 8.5ms\n",
      "Speed: 1.3ms preprocess, 8.5ms inference, 1.7ms postprocess per image at shape (1, 3, 384, 640)\n",
      "Current fps: 20.631522656166933\n",
      "\n",
      "0: 384x640 9 players, 8.4ms\n",
      "Speed: 1.3ms preprocess, 8.4ms inference, 1.4ms postprocess per image at shape (1, 3, 384, 640)\n",
      "Current fps: 21.01987243969957\n",
      "\n",
      "0: 384x640 10 players, 8.4ms\n",
      "Speed: 1.3ms preprocess, 8.4ms inference, 1.3ms postprocess per image at shape (1, 3, 384, 640)\n",
      "Current fps: 20.16407385899\n",
      "\n",
      "0: 384x640 9 players, 8.3ms\n",
      "Speed: 1.4ms preprocess, 8.3ms inference, 1.3ms postprocess per image at shape (1, 3, 384, 640)\n",
      "Current fps: 22.790232298466957\n",
      "\n",
      "0: 384x640 8 players, 12.8ms\n",
      "Speed: 1.2ms preprocess, 12.8ms inference, 1.9ms postprocess per image at shape (1, 3, 384, 640)\n",
      "Current fps: 18.441125894494085\n",
      "\n",
      "0: 384x640 10 players, 8.5ms\n",
      "Speed: 1.4ms preprocess, 8.5ms inference, 1.4ms postprocess per image at shape (1, 3, 384, 640)\n",
      "Current fps: 17.80339123935467\n",
      "\n",
      "0: 384x640 10 players, 21.5ms\n",
      "Speed: 1.4ms preprocess, 21.5ms inference, 6.2ms postprocess per image at shape (1, 3, 384, 640)\n",
      "Current fps: 14.369256940207285\n",
      "\n",
      "0: 384x640 9 players, 11.1ms\n",
      "Speed: 1.2ms preprocess, 11.1ms inference, 1.4ms postprocess per image at shape (1, 3, 384, 640)\n",
      "Current fps: 21.73781387896873\n",
      "\n",
      "0: 384x640 10 players, 11.0ms\n",
      "Speed: 1.3ms preprocess, 11.0ms inference, 1.6ms postprocess per image at shape (1, 3, 384, 640)\n",
      "Current fps: 20.159903516079314\n",
      "\n",
      "0: 384x640 8 players, 12.0ms\n",
      "Speed: 1.4ms preprocess, 12.0ms inference, 1.5ms postprocess per image at shape (1, 3, 384, 640)\n",
      "Current fps: 21.12969134127889\n",
      "\n",
      "0: 384x640 9 players, 11.3ms\n",
      "Speed: 1.2ms preprocess, 11.3ms inference, 1.6ms postprocess per image at shape (1, 3, 384, 640)\n",
      "Current fps: 20.985584183978496\n",
      "\n",
      "0: 384x640 6 players, 8.9ms\n",
      "Speed: 1.4ms preprocess, 8.9ms inference, 4.8ms postprocess per image at shape (1, 3, 384, 640)\n",
      "Current fps: 20.602950709199042\n",
      "\n",
      "0: 384x640 7 players, 8.3ms\n",
      "Speed: 1.3ms preprocess, 8.3ms inference, 4.5ms postprocess per image at shape (1, 3, 384, 640)\n",
      "Current fps: 21.432554515614356\n",
      "\n",
      "0: 384x640 8 players, 8.6ms\n",
      "Speed: 1.5ms preprocess, 8.6ms inference, 1.3ms postprocess per image at shape (1, 3, 384, 640)\n",
      "Current fps: 22.10312713485354\n",
      "\n",
      "0: 384x640 8 players, 11.9ms\n",
      "Speed: 1.7ms preprocess, 11.9ms inference, 1.4ms postprocess per image at shape (1, 3, 384, 640)\n",
      "Current fps: 18.06279258883188\n",
      "\n",
      "0: 384x640 9 players, 8.4ms\n",
      "Speed: 1.3ms preprocess, 8.4ms inference, 1.3ms postprocess per image at shape (1, 3, 384, 640)\n",
      "Current fps: 19.96827918981853\n",
      "\n",
      "0: 384x640 9 players, 8.3ms\n",
      "Speed: 1.3ms preprocess, 8.3ms inference, 1.5ms postprocess per image at shape (1, 3, 384, 640)\n",
      "Current fps: 20.455480548968545\n",
      "\n",
      "0: 384x640 9 players, 8.4ms\n",
      "Speed: 1.3ms preprocess, 8.4ms inference, 5.5ms postprocess per image at shape (1, 3, 384, 640)\n",
      "Current fps: 19.60324483038488\n",
      "\n",
      "0: 384x640 7 players, 8.3ms\n",
      "Speed: 1.3ms preprocess, 8.3ms inference, 4.3ms postprocess per image at shape (1, 3, 384, 640)\n",
      "Current fps: 21.463663905961923\n",
      "\n",
      "0: 384x640 7 players, 8.5ms\n",
      "Speed: 1.3ms preprocess, 8.5ms inference, 1.3ms postprocess per image at shape (1, 3, 384, 640)\n",
      "Current fps: 24.053787733261796\n",
      "\n",
      "0: 384x640 9 players, 11.2ms\n",
      "Speed: 1.3ms preprocess, 11.2ms inference, 1.7ms postprocess per image at shape (1, 3, 384, 640)\n",
      "Current fps: 21.092056406729956\n",
      "\n",
      "0: 384x640 10 players, 12.0ms\n",
      "Speed: 1.2ms preprocess, 12.0ms inference, 1.7ms postprocess per image at shape (1, 3, 384, 640)\n",
      "Current fps: 19.285831391887925\n",
      "\n",
      "0: 384x640 10 players, 11.5ms\n",
      "Speed: 1.2ms preprocess, 11.5ms inference, 2.3ms postprocess per image at shape (1, 3, 384, 640)\n",
      "Current fps: 20.298046775780527\n",
      "\n",
      "0: 384x640 11 players, 11.5ms\n",
      "Speed: 1.4ms preprocess, 11.5ms inference, 1.4ms postprocess per image at shape (1, 3, 384, 640)\n",
      "Current fps: 19.38982696384826\n",
      "\n",
      "0: 384x640 9 players, 11.4ms\n",
      "Speed: 1.4ms preprocess, 11.4ms inference, 2.2ms postprocess per image at shape (1, 3, 384, 640)\n",
      "Current fps: 17.890039445351807\n",
      "\n",
      "0: 384x640 11 players, 8.2ms\n",
      "Speed: 1.4ms preprocess, 8.2ms inference, 4.4ms postprocess per image at shape (1, 3, 384, 640)\n",
      "Current fps: 18.959777495969384\n",
      "\n",
      "0: 384x640 11 players, 11.1ms\n",
      "Speed: 1.3ms preprocess, 11.1ms inference, 1.8ms postprocess per image at shape (1, 3, 384, 640)\n",
      "Current fps: 19.24095546617636\n",
      "\n",
      "0: 384x640 11 players, 11.1ms\n",
      "Speed: 1.3ms preprocess, 11.1ms inference, 1.6ms postprocess per image at shape (1, 3, 384, 640)\n",
      "Current fps: 19.063952316121483\n",
      "\n",
      "0: 384x640 10 players, 11.1ms\n",
      "Speed: 1.4ms preprocess, 11.1ms inference, 1.8ms postprocess per image at shape (1, 3, 384, 640)\n",
      "Current fps: 18.314611770480855\n",
      "\n",
      "0: 384x640 11 players, 8.4ms\n",
      "Speed: 2.0ms preprocess, 8.4ms inference, 1.3ms postprocess per image at shape (1, 3, 384, 640)\n",
      "Current fps: 18.975062384133487\n",
      "\n",
      "0: 384x640 10 players, 21.4ms\n",
      "Speed: 1.4ms preprocess, 21.4ms inference, 3.0ms postprocess per image at shape (1, 3, 384, 640)\n",
      "Current fps: 15.4356339543356\n",
      "\n",
      "0: 384x640 9 players, 8.3ms\n",
      "Speed: 1.3ms preprocess, 8.3ms inference, 1.5ms postprocess per image at shape (1, 3, 384, 640)\n",
      "Current fps: 20.447696173775498\n",
      "\n",
      "0: 384x640 12 players, 14.8ms\n",
      "Speed: 1.3ms preprocess, 14.8ms inference, 2.7ms postprocess per image at shape (1, 3, 384, 640)\n",
      "Current fps: 17.457935671050052\n",
      "\n",
      "0: 384x640 12 players, 12.5ms\n",
      "Speed: 1.3ms preprocess, 12.5ms inference, 1.6ms postprocess per image at shape (1, 3, 384, 640)\n",
      "Current fps: 17.394533378249747\n",
      "\n",
      "0: 384x640 11 players, 9.2ms\n",
      "Speed: 1.3ms preprocess, 9.2ms inference, 4.8ms postprocess per image at shape (1, 3, 384, 640)\n",
      "Current fps: 18.495975691751234\n",
      "\n",
      "0: 384x640 9 players, 11.2ms\n",
      "Speed: 1.3ms preprocess, 11.2ms inference, 1.6ms postprocess per image at shape (1, 3, 384, 640)\n",
      "Current fps: 19.684213640671164\n",
      "\n",
      "0: 384x640 11 players, 11.3ms\n",
      "Speed: 1.3ms preprocess, 11.3ms inference, 1.9ms postprocess per image at shape (1, 3, 384, 640)\n",
      "Current fps: 16.074727938057134\n",
      "\n",
      "0: 384x640 11 players, 8.3ms\n",
      "Speed: 1.3ms preprocess, 8.3ms inference, 5.2ms postprocess per image at shape (1, 3, 384, 640)\n",
      "Current fps: 19.135857218892845\n",
      "\n",
      "0: 384x640 12 players, 12.9ms\n",
      "Speed: 1.3ms preprocess, 12.9ms inference, 1.6ms postprocess per image at shape (1, 3, 384, 640)\n",
      "Current fps: 17.921616512575763\n",
      "\n",
      "0: 384x640 12 players, 9.8ms\n",
      "Speed: 3.0ms preprocess, 9.8ms inference, 1.5ms postprocess per image at shape (1, 3, 384, 640)\n",
      "Current fps: 16.809451470413478\n",
      "\n",
      "0: 384x640 11 players, 15.1ms\n",
      "Speed: 1.7ms preprocess, 15.1ms inference, 1.4ms postprocess per image at shape (1, 3, 384, 640)\n",
      "Current fps: 17.37156420884313\n",
      "\n",
      "0: 384x640 12 players, 8.6ms\n",
      "Speed: 2.5ms preprocess, 8.6ms inference, 1.4ms postprocess per image at shape (1, 3, 384, 640)\n",
      "Current fps: 19.753966324622017\n",
      "\n",
      "0: 384x640 12 players, 8.7ms\n",
      "Speed: 1.3ms preprocess, 8.7ms inference, 1.3ms postprocess per image at shape (1, 3, 384, 640)\n",
      "Current fps: 18.832471157790856\n",
      "\n",
      "0: 384x640 11 players, 8.4ms\n",
      "Speed: 1.4ms preprocess, 8.4ms inference, 4.2ms postprocess per image at shape (1, 3, 384, 640)\n",
      "Current fps: 19.113869905093427\n",
      "\n",
      "0: 384x640 12 players, 11.1ms\n",
      "Speed: 1.3ms preprocess, 11.1ms inference, 1.5ms postprocess per image at shape (1, 3, 384, 640)\n",
      "Current fps: 19.04398944446618\n",
      "\n",
      "0: 384x640 12 players, 11.4ms\n",
      "Speed: 1.3ms preprocess, 11.4ms inference, 1.4ms postprocess per image at shape (1, 3, 384, 640)\n",
      "Current fps: 18.689747408189046\n",
      "\n",
      "0: 384x640 12 players, 8.4ms\n",
      "Speed: 2.5ms preprocess, 8.4ms inference, 1.5ms postprocess per image at shape (1, 3, 384, 640)\n",
      "Current fps: 17.88646196262903\n",
      "\n",
      "0: 384x640 12 players, 8.4ms\n",
      "Speed: 1.3ms preprocess, 8.4ms inference, 5.9ms postprocess per image at shape (1, 3, 384, 640)\n",
      "Current fps: 17.796686876359225\n",
      "\n",
      "0: 384x640 11 players, 12.2ms\n",
      "Speed: 1.3ms preprocess, 12.2ms inference, 1.4ms postprocess per image at shape (1, 3, 384, 640)\n",
      "Current fps: 18.533054610525223\n",
      "\n",
      "0: 384x640 10 players, 8.2ms\n",
      "Speed: 1.3ms preprocess, 8.2ms inference, 1.5ms postprocess per image at shape (1, 3, 384, 640)\n",
      "Current fps: 20.85583373630241\n",
      "\n",
      "0: 384x640 11 players, 8.3ms\n",
      "Speed: 2.2ms preprocess, 8.3ms inference, 1.3ms postprocess per image at shape (1, 3, 384, 640)\n",
      "Current fps: 17.832688191519793\n",
      "\n",
      "0: 384x640 11 players, 12.2ms\n",
      "Speed: 1.3ms preprocess, 12.2ms inference, 2.4ms postprocess per image at shape (1, 3, 384, 640)\n",
      "Current fps: 16.296426257622752\n",
      "\n",
      "0: 384x640 11 players, 16.8ms\n",
      "Speed: 1.5ms preprocess, 16.8ms inference, 2.4ms postprocess per image at shape (1, 3, 384, 640)\n",
      "Current fps: 17.092136374999868\n",
      "\n",
      "0: 384x640 11 players, 11.6ms\n",
      "Speed: 1.2ms preprocess, 11.6ms inference, 1.5ms postprocess per image at shape (1, 3, 384, 640)\n",
      "Current fps: 19.2611900578137\n",
      "\n",
      "0: 384x640 10 players, 11.6ms\n",
      "Speed: 1.2ms preprocess, 11.6ms inference, 1.8ms postprocess per image at shape (1, 3, 384, 640)\n",
      "Current fps: 19.1869834272058\n",
      "\n",
      "0: 384x640 11 players, 9.0ms\n",
      "Speed: 2.7ms preprocess, 9.0ms inference, 2.0ms postprocess per image at shape (1, 3, 384, 640)\n",
      "Current fps: 16.50959765648741\n",
      "\n",
      "0: 384x640 12 players, 11.0ms\n",
      "Speed: 1.2ms preprocess, 11.0ms inference, 1.4ms postprocess per image at shape (1, 3, 384, 640)\n",
      "Current fps: 18.061708803757238\n",
      "\n",
      "0: 384x640 11 players, 8.3ms\n",
      "Speed: 1.5ms preprocess, 8.3ms inference, 1.3ms postprocess per image at shape (1, 3, 384, 640)\n",
      "Current fps: 19.298742370672837\n",
      "\n",
      "0: 384x640 11 players, 8.2ms\n",
      "Speed: 1.4ms preprocess, 8.2ms inference, 1.3ms postprocess per image at shape (1, 3, 384, 640)\n",
      "Current fps: 17.706572488661926\n",
      "\n",
      "0: 384x640 11 players, 12.4ms\n",
      "Speed: 1.2ms preprocess, 12.4ms inference, 1.8ms postprocess per image at shape (1, 3, 384, 640)\n",
      "Current fps: 18.774316494992473\n",
      "\n",
      "0: 384x640 12 players, 12.5ms\n",
      "Speed: 1.5ms preprocess, 12.5ms inference, 1.4ms postprocess per image at shape (1, 3, 384, 640)\n",
      "Current fps: 17.06555175382732\n",
      "\n",
      "0: 384x640 10 players, 11.5ms\n",
      "Speed: 1.2ms preprocess, 11.5ms inference, 2.5ms postprocess per image at shape (1, 3, 384, 640)\n",
      "Current fps: 19.140223092440664\n",
      "\n",
      "0: 384x640 11 players, 11.7ms\n",
      "Speed: 1.2ms preprocess, 11.7ms inference, 1.9ms postprocess per image at shape (1, 3, 384, 640)\n",
      "Current fps: 15.508055450247404\n",
      "\n",
      "0: 384x640 12 players, 11.1ms\n",
      "Speed: 1.6ms preprocess, 11.1ms inference, 1.6ms postprocess per image at shape (1, 3, 384, 640)\n",
      "Current fps: 18.14170390547483\n",
      "\n",
      "0: 384x640 11 players, 22.3ms\n",
      "Speed: 1.6ms preprocess, 22.3ms inference, 2.0ms postprocess per image at shape (1, 3, 384, 640)\n",
      "Current fps: 14.957566729613337\n",
      "\n",
      "0: 384x640 11 players, 9.6ms\n",
      "Speed: 4.0ms preprocess, 9.6ms inference, 1.3ms postprocess per image at shape (1, 3, 384, 640)\n",
      "Current fps: 15.49031533858874\n",
      "\n",
      "0: 384x640 11 players, 12.0ms\n",
      "Speed: 1.2ms preprocess, 12.0ms inference, 2.5ms postprocess per image at shape (1, 3, 384, 640)\n",
      "Current fps: 16.64991102874245\n",
      "\n",
      "0: 384x640 11 players, 11.0ms\n",
      "Speed: 1.3ms preprocess, 11.0ms inference, 2.0ms postprocess per image at shape (1, 3, 384, 640)\n",
      "Current fps: 18.100405847347353\n",
      "\n",
      "0: 384x640 11 players, 11.3ms\n",
      "Speed: 1.3ms preprocess, 11.3ms inference, 1.3ms postprocess per image at shape (1, 3, 384, 640)\n",
      "Current fps: 15.997651545029017\n",
      "\n",
      "0: 384x640 11 players, 21.6ms\n",
      "Speed: 1.5ms preprocess, 21.6ms inference, 5.9ms postprocess per image at shape (1, 3, 384, 640)\n",
      "Current fps: 14.198140560344875\n",
      "\n",
      "0: 384x640 11 players, 12.2ms\n",
      "Speed: 1.5ms preprocess, 12.2ms inference, 1.6ms postprocess per image at shape (1, 3, 384, 640)\n",
      "Current fps: 16.455547748465086\n",
      "\n",
      "0: 384x640 11 players, 14.0ms\n",
      "Speed: 1.3ms preprocess, 14.0ms inference, 3.1ms postprocess per image at shape (1, 3, 384, 640)\n",
      "Current fps: 14.643259806681433\n",
      "\n",
      "0: 384x640 12 players, 18.9ms\n",
      "Speed: 1.4ms preprocess, 18.9ms inference, 6.8ms postprocess per image at shape (1, 3, 384, 640)\n",
      "Current fps: 13.939508860112896\n",
      "\n",
      "0: 384x640 12 players, 10.4ms\n",
      "Speed: 3.4ms preprocess, 10.4ms inference, 4.7ms postprocess per image at shape (1, 3, 384, 640)\n",
      "Current fps: 15.553057630909617\n",
      "\n",
      "0: 384x640 12 players, 22.3ms\n",
      "Speed: 3.9ms preprocess, 22.3ms inference, 3.0ms postprocess per image at shape (1, 3, 384, 640)\n",
      "Current fps: 14.232449141577066\n",
      "\n",
      "0: 384x640 11 players, 19.3ms\n",
      "Speed: 1.6ms preprocess, 19.3ms inference, 2.5ms postprocess per image at shape (1, 3, 384, 640)\n",
      "Current fps: 15.258066855815104\n",
      "\n",
      "0: 384x640 11 players, 8.8ms\n",
      "Speed: 1.4ms preprocess, 8.8ms inference, 1.3ms postprocess per image at shape (1, 3, 384, 640)\n",
      "Current fps: 18.280284435644063\n",
      "\n",
      "0: 384x640 12 players, 11.0ms\n",
      "Speed: 1.4ms preprocess, 11.0ms inference, 1.5ms postprocess per image at shape (1, 3, 384, 640)\n",
      "Current fps: 17.782074559345002\n",
      "\n",
      "0: 384x640 12 players, 11.1ms\n",
      "Speed: 1.6ms preprocess, 11.1ms inference, 1.4ms postprocess per image at shape (1, 3, 384, 640)\n",
      "Current fps: 14.3694514428122\n",
      "\n",
      "0: 384x640 12 players, 8.9ms\n",
      "Speed: 1.5ms preprocess, 8.9ms inference, 1.3ms postprocess per image at shape (1, 3, 384, 640)\n",
      "Current fps: 18.205666280279356\n",
      "\n",
      "0: 384x640 12 players, 17.8ms\n",
      "Speed: 1.3ms preprocess, 17.8ms inference, 1.5ms postprocess per image at shape (1, 3, 384, 640)\n",
      "Current fps: 14.872221811486925\n",
      "\n",
      "0: 384x640 11 players, 16.5ms\n",
      "Speed: 1.4ms preprocess, 16.5ms inference, 2.7ms postprocess per image at shape (1, 3, 384, 640)\n",
      "Current fps: 14.70204771316334\n",
      "\n",
      "0: 384x640 11 players, 16.0ms\n",
      "Speed: 1.4ms preprocess, 16.0ms inference, 2.7ms postprocess per image at shape (1, 3, 384, 640)\n",
      "Current fps: 15.672417143091115\n",
      "\n",
      "0: 384x640 11 players, 18.1ms\n",
      "Speed: 1.4ms preprocess, 18.1ms inference, 1.3ms postprocess per image at shape (1, 3, 384, 640)\n",
      "Current fps: 14.82803109361105\n",
      "\n",
      "0: 384x640 10 players, 13.4ms\n",
      "Speed: 1.4ms preprocess, 13.4ms inference, 1.6ms postprocess per image at shape (1, 3, 384, 640)\n",
      "Current fps: 18.209284072846\n",
      "\n",
      "0: 384x640 10 players, 11.2ms\n",
      "Speed: 1.5ms preprocess, 11.2ms inference, 1.5ms postprocess per image at shape (1, 3, 384, 640)\n",
      "Current fps: 19.41877622086157\n",
      "\n",
      "0: 384x640 11 players, 20.9ms\n",
      "Speed: 2.1ms preprocess, 20.9ms inference, 3.1ms postprocess per image at shape (1, 3, 384, 640)\n",
      "Current fps: 15.370261452201422\n",
      "\n",
      "0: 384x640 12 players, 9.6ms\n",
      "Speed: 3.0ms preprocess, 9.6ms inference, 1.5ms postprocess per image at shape (1, 3, 384, 640)\n",
      "Current fps: 15.547779040575698\n",
      "\n",
      "0: 384x640 12 players, 17.1ms\n",
      "Speed: 1.5ms preprocess, 17.1ms inference, 4.5ms postprocess per image at shape (1, 3, 384, 640)\n",
      "Current fps: 13.072236499395148\n",
      "\n",
      "0: 384x640 11 players, 12.8ms\n",
      "Speed: 1.3ms preprocess, 12.8ms inference, 2.1ms postprocess per image at shape (1, 3, 384, 640)\n",
      "Current fps: 14.939567284362994\n",
      "\n",
      "0: 384x640 12 players, 21.0ms\n",
      "Speed: 1.4ms preprocess, 21.0ms inference, 4.5ms postprocess per image at shape (1, 3, 384, 640)\n",
      "Current fps: 14.05671118287749\n",
      "\n",
      "0: 384x640 12 players, 15.9ms\n",
      "Speed: 1.3ms preprocess, 15.9ms inference, 1.5ms postprocess per image at shape (1, 3, 384, 640)\n",
      "Current fps: 15.270671973433506\n",
      "\n",
      "0: 384x640 12 players, 12.2ms\n",
      "Speed: 1.3ms preprocess, 12.2ms inference, 1.4ms postprocess per image at shape (1, 3, 384, 640)\n",
      "Current fps: 17.242979934660426\n",
      "\n",
      "0: 384x640 12 players, 8.3ms\n",
      "Speed: 1.3ms preprocess, 8.3ms inference, 1.5ms postprocess per image at shape (1, 3, 384, 640)\n",
      "Current fps: 15.314079675954277\n",
      "\n",
      "0: 384x640 12 players, 17.1ms\n",
      "Speed: 1.5ms preprocess, 17.1ms inference, 1.4ms postprocess per image at shape (1, 3, 384, 640)\n",
      "Current fps: 13.923519582662673\n",
      "\n",
      "0: 384x640 12 players, 11.2ms\n",
      "Speed: 1.2ms preprocess, 11.2ms inference, 2.6ms postprocess per image at shape (1, 3, 384, 640)\n",
      "Current fps: 16.803482017697945\n"
     ]
    }
   ],
   "source": [
    "# Paths and video setup\n",
    "VIDEO_PATH = f'{Home}/football.mp4'\n",
    "OUTPUT_VIDEO_PATH = f'{Home}/output_football.mp4'\n",
    "cap = cv2.VideoCapture(VIDEO_PATH)\n",
    "\n",
    "if not cap.isOpened():\n",
    "    print(\"Error: Unable to open video file.\")\n",
    "    exit()\n",
    "\n",
    "# Video Writer settings\n",
    "frame_width = int(cap.get(cv2.CAP_PROP_FRAME_WIDTH))\n",
    "frame_height = int(cap.get(cv2.CAP_PROP_FRAME_HEIGHT))\n",
    "fps = int(cap.get(cv2.CAP_PROP_FPS))\n",
    "fourcc = cv2.VideoWriter_fourcc(*'mp4v')\n",
    "out = cv2.VideoWriter(OUTPUT_VIDEO_PATH, fourcc, fps, (frame_width, frame_height))\n",
    "\n",
    "while True:\n",
    "    ret, frame = cap.read()\n",
    "    if not ret:\n",
    "        break\n",
    "    start_time = time.perf_counter()\n",
    "    \n",
    "    # Run detection and tracking\n",
    "    detections = detection(trained_model, frame, confidence=0.7, allowed_classes=[1,2])\n",
    "    tracking_ids, boxes = track(object_tracker, detections, frame)\n",
    "    \n",
    "    # Draw bounding boxes and tracking IDs\n",
    "    for tracking_id, bounding_box in zip(tracking_ids, boxes):\n",
    "        cv2.rectangle(frame, (int(bounding_box[0]), int(bounding_box[1])), \n",
    "                      (int(bounding_box[2]), int(bounding_box[3])), (0, 0, 255), 2)\n",
    "        cv2.putText(frame, f\"{str(tracking_id)}\", (int(bounding_box[0]), int(bounding_box[1] - 10)), \n",
    "                    cv2.FONT_HERSHEY_SIMPLEX, 0.5, (0, 255, 0), 2)\n",
    "    \n",
    "    # Save frame to output video\n",
    "    out.write(frame)\n",
    "    \n",
    "    # Calculate and print FPS\n",
    "    end_time = time.perf_counter()\n",
    "    fps = 1 / (end_time - start_time)\n",
    "    print(f\"Current fps: {fps}\")\n",
    "\n",
    "cap.release()\n",
    "out.release()"
   ]
  },
  {
   "cell_type": "code",
   "execution_count": null,
   "metadata": {},
   "outputs": [],
   "source": []
  }
 ],
 "metadata": {
  "kernelspec": {
   "display_name": "torch-based",
   "language": "python",
   "name": "python3"
  },
  "language_info": {
   "codemirror_mode": {
    "name": "ipython",
    "version": 3
   },
   "file_extension": ".py",
   "mimetype": "text/x-python",
   "name": "python",
   "nbconvert_exporter": "python",
   "pygments_lexer": "ipython3",
   "version": "3.8.20"
  }
 },
 "nbformat": 4,
 "nbformat_minor": 2
}
